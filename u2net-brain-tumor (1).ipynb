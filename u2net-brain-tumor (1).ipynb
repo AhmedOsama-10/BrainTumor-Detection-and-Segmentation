{
 "cells": [
  {
   "cell_type": "code",
   "execution_count": 1,
   "metadata": {
    "execution": {
     "iopub.execute_input": "2024-11-20T22:27:37.707417Z",
     "iopub.status.busy": "2024-11-20T22:27:37.707135Z",
     "iopub.status.idle": "2024-11-20T22:27:37.711841Z",
     "shell.execute_reply": "2024-11-20T22:27:37.710877Z",
     "shell.execute_reply.started": "2024-11-20T22:27:37.707391Z"
    },
    "id": "EAmnP1ATl23_",
    "outputId": "d588ff34-11cf-4824-b36a-96f026a2d580",
    "trusted": true
   },
   "outputs": [],
   "source": [
    "# Torch and torchvision are already pre-installed in Kaggle\n"
   ]
  },
  {
   "cell_type": "code",
   "execution_count": 2,
   "metadata": {
    "execution": {
     "iopub.execute_input": "2024-11-20T22:27:37.716239Z",
     "iopub.status.busy": "2024-11-20T22:27:37.715994Z",
     "iopub.status.idle": "2024-11-20T22:27:41.753837Z",
     "shell.execute_reply": "2024-11-20T22:27:41.752882Z",
     "shell.execute_reply.started": "2024-11-20T22:27:37.716217Z"
    },
    "id": "eXVNtKodl20U",
    "outputId": "ed2c4ce5-74e9-4b64-ff9b-4aa16331062c",
    "trusted": true
   },
   "outputs": [
    {
     "name": "stdout",
     "output_type": "stream",
     "text": [
      "Cloning into 'U-2-Net'...\n",
      "remote: Enumerating objects: 1077, done.\u001b[K\n",
      "remote: Counting objects: 100% (423/423), done.\u001b[K\n",
      "remote: Compressing objects: 100% (43/43), done.\u001b[K\n",
      "remote: Total 1077 (delta 398), reused 381 (delta 380), pack-reused 654 (from 1)\u001b[K\n",
      "Receiving objects: 100% (1077/1077), 66.95 MiB | 40.35 MiB/s, done.\n",
      "Resolving deltas: 100% (536/536), done.\n"
     ]
    }
   ],
   "source": [
    "!git clone https://github.com/xuebinqin/U-2-Net.git"
   ]
  },
  {
   "cell_type": "code",
   "execution_count": 3,
   "metadata": {
    "execution": {
     "iopub.execute_input": "2024-11-20T22:27:41.755928Z",
     "iopub.status.busy": "2024-11-20T22:27:41.755643Z",
     "iopub.status.idle": "2024-11-20T22:27:41.762380Z",
     "shell.execute_reply": "2024-11-20T22:27:41.761351Z",
     "shell.execute_reply.started": "2024-11-20T22:27:41.755902Z"
    },
    "id": "szyBXgDol2v9",
    "outputId": "2fdff20b-6ef4-4a4a-d387-b755ed3bb027",
    "trusted": true
   },
   "outputs": [
    {
     "name": "stdout",
     "output_type": "stream",
     "text": [
      "/kaggle/working/U-2-Net\n"
     ]
    }
   ],
   "source": [
    "%cd U-2-Net"
   ]
  },
  {
   "cell_type": "code",
   "execution_count": 4,
   "metadata": {
    "execution": {
     "iopub.execute_input": "2024-11-20T22:27:41.763672Z",
     "iopub.status.busy": "2024-11-20T22:27:41.763396Z",
     "iopub.status.idle": "2024-11-20T22:27:42.427193Z",
     "shell.execute_reply": "2024-11-20T22:27:42.426267Z",
     "shell.execute_reply.started": "2024-11-20T22:27:41.763648Z"
    },
    "id": "HGA8BZgZeTrM",
    "trusted": true
   },
   "outputs": [],
   "source": [
    "import os\n",
    "\n",
    "import shutil\n",
    "\n",
    "from sklearn.model_selection import train_test_split\n",
    "\n",
    "\n",
    "\n",
    "# Define your image and mask directories\n",
    "\n",
    "image_dir = '/kaggle/input/brain-tumor-segmentation/images'  # or wherever the images are stored\n",
    "\n",
    "mask_dir = '/kaggle/input/brain-tumor-segmentation/masks'    # or wherever the masks are stored\n",
    "\n",
    "\n",
    "\n",
    "# List all image files\n",
    "\n",
    "images = sorted(os.listdir(image_dir))\n",
    "\n",
    "masks = sorted(os.listdir(mask_dir))\n",
    "\n",
    "\n",
    "\n",
    "# Check that the number of images and masks match\n",
    "\n",
    "assert len(images) == len(masks), \"Mismatch between image and mask files!\""
   ]
  },
  {
   "cell_type": "code",
   "execution_count": 5,
   "metadata": {
    "execution": {
     "iopub.execute_input": "2024-11-20T22:27:42.429924Z",
     "iopub.status.busy": "2024-11-20T22:27:42.429578Z",
     "iopub.status.idle": "2024-11-20T22:28:23.228413Z",
     "shell.execute_reply": "2024-11-20T22:28:23.227717Z",
     "shell.execute_reply.started": "2024-11-20T22:27:42.429898Z"
    },
    "id": "Pt7gyhhieToU",
    "trusted": true
   },
   "outputs": [],
   "source": [
    "# First, split into train (80%) and temp (20%)\n",
    "\n",
    "train_images, temp_images, train_masks, temp_masks = train_test_split(\n",
    "\n",
    "    images, masks, test_size=0.2, random_state=42)\n",
    "\n",
    "\n",
    "\n",
    "# Then split temp into validation (50% of temp, which is 10% of total) and test (remaining 10%)\n",
    "\n",
    "val_images, test_images, val_masks, test_masks = train_test_split(\n",
    "\n",
    "    temp_images, temp_masks, test_size=0.5, random_state=42)\n",
    "\n",
    "\n",
    "\n",
    "# Create directories for train, validation, and test sets\n",
    "\n",
    "os.makedirs('/kaggle/working/bts/train/images', exist_ok=True)\n",
    "\n",
    "os.makedirs('/kaggle/working/bts/train/masks', exist_ok=True)\n",
    "\n",
    "os.makedirs('/kaggle/working/bts/val/images', exist_ok=True)\n",
    "\n",
    "os.makedirs('/kaggle/working/bts/val/masks', exist_ok=True)\n",
    "\n",
    "os.makedirs('/kaggle/working/bts/test/images', exist_ok=True)\n",
    "\n",
    "os.makedirs('/kaggle/working/bts/test/masks', exist_ok=True)\n",
    "\n",
    "\n",
    "\n",
    "# Move the files to their respective directories\n",
    "\n",
    "for img, mask in zip(train_images, train_masks):\n",
    "\n",
    "    shutil.copy(os.path.join(image_dir, img), '/kaggle/working/bts/train/images/')\n",
    "\n",
    "    shutil.copy(os.path.join(mask_dir, mask), '/kaggle/working/bts/train/masks/')\n",
    "\n",
    "\n",
    "\n",
    "for img, mask in zip(val_images, val_masks):\n",
    "\n",
    "    shutil.copy(os.path.join(image_dir, img), '/kaggle/working/bts/val/images/')\n",
    "\n",
    "    shutil.copy(os.path.join(mask_dir, mask), '/kaggle/working/bts/val/masks/')\n",
    "\n",
    "\n",
    "\n",
    "for img, mask in zip(test_images, test_masks):\n",
    "\n",
    "    shutil.copy(os.path.join(image_dir, img), '/kaggle/working/bts/test/images/')\n",
    "\n",
    "    shutil.copy(os.path.join(mask_dir, mask), '/kaggle/working/bts/test/masks/')\n"
   ]
  },
  {
   "cell_type": "code",
   "execution_count": 6,
   "metadata": {
    "execution": {
     "iopub.execute_input": "2024-11-20T22:28:23.229723Z",
     "iopub.status.busy": "2024-11-20T22:28:23.229465Z",
     "iopub.status.idle": "2024-11-20T22:28:28.231319Z",
     "shell.execute_reply": "2024-11-20T22:28:28.230340Z",
     "shell.execute_reply.started": "2024-11-20T22:28:23.229698Z"
    },
    "id": "CnRAW0BXeTkO",
    "trusted": true
   },
   "outputs": [],
   "source": [
    "from PIL import Image\n",
    "import os\n",
    "import torch\n",
    "from torch.utils.data import Dataset\n",
    "from torchvision import transforms\n",
    "\n",
    "# Define a custom dataset class\n",
    "class TumorSegmentationDataset(Dataset):\n",
    "    def __init__(self, image_dir, mask_dir, image_transform=None, mask_transform=None):\n",
    "        self.image_dir = image_dir\n",
    "        self.mask_dir = mask_dir\n",
    "        self.image_transform = image_transform\n",
    "        self.mask_transform = mask_transform\n",
    "        self.images = os.listdir(image_dir)\n",
    "\n",
    "    def __len__(self):\n",
    "        return len(self.images)\n",
    "\n",
    "    def __getitem__(self, idx):\n",
    "        image_path = os.path.join(self.image_dir, self.images[idx])\n",
    "        mask_path = os.path.join(self.mask_dir, self.images[idx].replace(\".jpg\", \".png\"))  # Adjust as needed\n",
    "\n",
    "        image = Image.open(image_path).convert(\"RGB\")\n",
    "        mask = Image.open(mask_path).convert(\"L\")  # Load mask in grayscale\n",
    "\n",
    "        # Apply image transform\n",
    "        if self.image_transform:\n",
    "            image = self.image_transform(image)\n",
    "\n",
    "        # Apply mask transform\n",
    "        if self.mask_transform:\n",
    "            mask = self.mask_transform(mask)\n",
    "\n",
    "        return image, mask\n",
    "\n",
    "# Define transformations for images and masks separately\n",
    "image_transform = transforms.Compose([\n",
    "    transforms.Resize((320, 320)),\n",
    "    transforms.ToTensor(),\n",
    "    transforms.Normalize(mean=[0.485, 0.456, 0.406], std=[0.229, 0.224, 0.225]),\n",
    "])\n",
    "\n",
    "mask_transform = transforms.Compose([\n",
    "    transforms.Resize((320, 320)),\n",
    "    transforms.ToTensor(),  # Masks should be converted to tensor, but typically no normalization\n",
    "])\n",
    "\n",
    "# Load the datasets using separate transforms\n",
    "train_dataset = TumorSegmentationDataset(\n",
    "    '/kaggle/working/bts/train/images',\n",
    "    '/kaggle/working/bts/train/masks',\n",
    "    image_transform=image_transform,\n",
    "    mask_transform=mask_transform\n",
    ")\n",
    "\n",
    "val_dataset = TumorSegmentationDataset(\n",
    "    '/kaggle/working/bts/val/images',\n",
    "    '/kaggle/working/bts/val/masks',\n",
    "    image_transform=image_transform,\n",
    "    mask_transform=mask_transform\n",
    ")\n",
    "\n",
    "test_dataset = TumorSegmentationDataset(\n",
    "    '/kaggle/working/bts/test/images',\n",
    "    '/kaggle/working/bts/test/masks',\n",
    "    image_transform=image_transform,\n",
    "    mask_transform=mask_transform\n",
    ")\n",
    "\n",
    "# Create DataLoader objects\n",
    "train_loader = torch.utils.data.DataLoader(train_dataset, batch_size=8, shuffle=True)\n",
    "val_loader = torch.utils.data.DataLoader(val_dataset, batch_size=8, shuffle=False)\n",
    "test_loader = torch.utils.data.DataLoader(test_dataset, batch_size=8, shuffle=False)\n"
   ]
  },
  {
   "cell_type": "code",
   "execution_count": 7,
   "metadata": {
    "execution": {
     "iopub.execute_input": "2024-11-20T22:28:28.232831Z",
     "iopub.status.busy": "2024-11-20T22:28:28.232464Z",
     "iopub.status.idle": "2024-11-20T22:28:29.044322Z",
     "shell.execute_reply": "2024-11-20T22:28:29.043619Z",
     "shell.execute_reply.started": "2024-11-20T22:28:28.232804Z"
    },
    "id": "iI4HMcF1eTVt",
    "trusted": true
   },
   "outputs": [],
   "source": [
    "from model import U2NET  # Import the U^2-Net model\n",
    "\n",
    "\n",
    "\n",
    "# Initialize the U^2-Net model\n",
    "\n",
    "model = U2NET(3, 1)  # 3 input channels (RGB) and 1 output channel (binary segmentation)\n",
    "\n",
    "\n",
    "\n",
    "# Move the model to the GPU for faster training if available\n",
    "\n",
    "model = model.cuda()\n"
   ]
  },
  {
   "cell_type": "code",
   "execution_count": 8,
   "metadata": {
    "execution": {
     "iopub.execute_input": "2024-11-20T22:28:29.045714Z",
     "iopub.status.busy": "2024-11-20T22:28:29.045381Z",
     "iopub.status.idle": "2024-11-20T22:28:39.098114Z",
     "shell.execute_reply": "2024-11-20T22:28:39.097006Z",
     "shell.execute_reply.started": "2024-11-20T22:28:29.045679Z"
    },
    "trusted": true
   },
   "outputs": [
    {
     "name": "stdout",
     "output_type": "stream",
     "text": [
      "Collecting torchsummary\n",
      "  Downloading torchsummary-1.5.1-py3-none-any.whl.metadata (296 bytes)\n",
      "Downloading torchsummary-1.5.1-py3-none-any.whl (2.8 kB)\n",
      "Installing collected packages: torchsummary\n",
      "Successfully installed torchsummary-1.5.1\n",
      "Note: you may need to restart the kernel to use updated packages.\n"
     ]
    }
   ],
   "source": [
    "pip install torchsummary\n"
   ]
  },
  {
   "cell_type": "code",
   "execution_count": 9,
   "metadata": {
    "execution": {
     "iopub.execute_input": "2024-11-20T22:28:39.100582Z",
     "iopub.status.busy": "2024-11-20T22:28:39.099772Z",
     "iopub.status.idle": "2024-11-20T22:28:40.175158Z",
     "shell.execute_reply": "2024-11-20T22:28:40.174327Z",
     "shell.execute_reply.started": "2024-11-20T22:28:39.100538Z"
    },
    "trusted": true
   },
   "outputs": [
    {
     "name": "stderr",
     "output_type": "stream",
     "text": [
      "/kaggle/working/U-2-Net/model/u2net.py:23: UserWarning: `nn.functional.upsample` is deprecated. Use `nn.functional.interpolate` instead.\n",
      "  src = F.upsample(src,size=tar.shape[2:],mode='bilinear')\n"
     ]
    },
    {
     "name": "stdout",
     "output_type": "stream",
     "text": [
      "----------------------------------------------------------------\n",
      "        Layer (type)               Output Shape         Param #\n",
      "================================================================\n",
      "            Conv2d-1         [-1, 64, 320, 320]           1,792\n",
      "       BatchNorm2d-2         [-1, 64, 320, 320]             128\n",
      "              ReLU-3         [-1, 64, 320, 320]               0\n",
      "          REBNCONV-4         [-1, 64, 320, 320]               0\n",
      "            Conv2d-5         [-1, 32, 320, 320]          18,464\n",
      "       BatchNorm2d-6         [-1, 32, 320, 320]              64\n",
      "              ReLU-7         [-1, 32, 320, 320]               0\n",
      "          REBNCONV-8         [-1, 32, 320, 320]               0\n",
      "         MaxPool2d-9         [-1, 32, 160, 160]               0\n",
      "           Conv2d-10         [-1, 32, 160, 160]           9,248\n",
      "      BatchNorm2d-11         [-1, 32, 160, 160]              64\n",
      "             ReLU-12         [-1, 32, 160, 160]               0\n",
      "         REBNCONV-13         [-1, 32, 160, 160]               0\n",
      "        MaxPool2d-14           [-1, 32, 80, 80]               0\n",
      "           Conv2d-15           [-1, 32, 80, 80]           9,248\n",
      "      BatchNorm2d-16           [-1, 32, 80, 80]              64\n",
      "             ReLU-17           [-1, 32, 80, 80]               0\n",
      "         REBNCONV-18           [-1, 32, 80, 80]               0\n",
      "        MaxPool2d-19           [-1, 32, 40, 40]               0\n",
      "           Conv2d-20           [-1, 32, 40, 40]           9,248\n",
      "      BatchNorm2d-21           [-1, 32, 40, 40]              64\n",
      "             ReLU-22           [-1, 32, 40, 40]               0\n",
      "         REBNCONV-23           [-1, 32, 40, 40]               0\n",
      "        MaxPool2d-24           [-1, 32, 20, 20]               0\n",
      "           Conv2d-25           [-1, 32, 20, 20]           9,248\n",
      "      BatchNorm2d-26           [-1, 32, 20, 20]              64\n",
      "             ReLU-27           [-1, 32, 20, 20]               0\n",
      "         REBNCONV-28           [-1, 32, 20, 20]               0\n",
      "        MaxPool2d-29           [-1, 32, 10, 10]               0\n",
      "           Conv2d-30           [-1, 32, 10, 10]           9,248\n",
      "      BatchNorm2d-31           [-1, 32, 10, 10]              64\n",
      "             ReLU-32           [-1, 32, 10, 10]               0\n",
      "         REBNCONV-33           [-1, 32, 10, 10]               0\n",
      "           Conv2d-34           [-1, 32, 10, 10]           9,248\n",
      "      BatchNorm2d-35           [-1, 32, 10, 10]              64\n",
      "             ReLU-36           [-1, 32, 10, 10]               0\n",
      "         REBNCONV-37           [-1, 32, 10, 10]               0\n",
      "           Conv2d-38           [-1, 32, 10, 10]          18,464\n",
      "      BatchNorm2d-39           [-1, 32, 10, 10]              64\n",
      "             ReLU-40           [-1, 32, 10, 10]               0\n",
      "         REBNCONV-41           [-1, 32, 10, 10]               0\n",
      "           Conv2d-42           [-1, 32, 20, 20]          18,464\n",
      "      BatchNorm2d-43           [-1, 32, 20, 20]              64\n",
      "             ReLU-44           [-1, 32, 20, 20]               0\n",
      "         REBNCONV-45           [-1, 32, 20, 20]               0\n",
      "           Conv2d-46           [-1, 32, 40, 40]          18,464\n",
      "      BatchNorm2d-47           [-1, 32, 40, 40]              64\n",
      "             ReLU-48           [-1, 32, 40, 40]               0\n",
      "         REBNCONV-49           [-1, 32, 40, 40]               0\n",
      "           Conv2d-50           [-1, 32, 80, 80]          18,464\n",
      "      BatchNorm2d-51           [-1, 32, 80, 80]              64\n",
      "             ReLU-52           [-1, 32, 80, 80]               0\n",
      "         REBNCONV-53           [-1, 32, 80, 80]               0\n",
      "           Conv2d-54         [-1, 32, 160, 160]          18,464\n",
      "      BatchNorm2d-55         [-1, 32, 160, 160]              64\n",
      "             ReLU-56         [-1, 32, 160, 160]               0\n",
      "         REBNCONV-57         [-1, 32, 160, 160]               0\n",
      "           Conv2d-58         [-1, 64, 320, 320]          36,928\n",
      "      BatchNorm2d-59         [-1, 64, 320, 320]             128\n",
      "             ReLU-60         [-1, 64, 320, 320]               0\n",
      "         REBNCONV-61         [-1, 64, 320, 320]               0\n",
      "             RSU7-62         [-1, 64, 320, 320]               0\n",
      "        MaxPool2d-63         [-1, 64, 160, 160]               0\n",
      "           Conv2d-64        [-1, 128, 160, 160]          73,856\n",
      "      BatchNorm2d-65        [-1, 128, 160, 160]             256\n",
      "             ReLU-66        [-1, 128, 160, 160]               0\n",
      "         REBNCONV-67        [-1, 128, 160, 160]               0\n",
      "           Conv2d-68         [-1, 32, 160, 160]          36,896\n",
      "      BatchNorm2d-69         [-1, 32, 160, 160]              64\n",
      "             ReLU-70         [-1, 32, 160, 160]               0\n",
      "         REBNCONV-71         [-1, 32, 160, 160]               0\n",
      "        MaxPool2d-72           [-1, 32, 80, 80]               0\n",
      "           Conv2d-73           [-1, 32, 80, 80]           9,248\n",
      "      BatchNorm2d-74           [-1, 32, 80, 80]              64\n",
      "             ReLU-75           [-1, 32, 80, 80]               0\n",
      "         REBNCONV-76           [-1, 32, 80, 80]               0\n",
      "        MaxPool2d-77           [-1, 32, 40, 40]               0\n",
      "           Conv2d-78           [-1, 32, 40, 40]           9,248\n",
      "      BatchNorm2d-79           [-1, 32, 40, 40]              64\n",
      "             ReLU-80           [-1, 32, 40, 40]               0\n",
      "         REBNCONV-81           [-1, 32, 40, 40]               0\n",
      "        MaxPool2d-82           [-1, 32, 20, 20]               0\n",
      "           Conv2d-83           [-1, 32, 20, 20]           9,248\n",
      "      BatchNorm2d-84           [-1, 32, 20, 20]              64\n",
      "             ReLU-85           [-1, 32, 20, 20]               0\n",
      "         REBNCONV-86           [-1, 32, 20, 20]               0\n",
      "        MaxPool2d-87           [-1, 32, 10, 10]               0\n",
      "           Conv2d-88           [-1, 32, 10, 10]           9,248\n",
      "      BatchNorm2d-89           [-1, 32, 10, 10]              64\n",
      "             ReLU-90           [-1, 32, 10, 10]               0\n",
      "         REBNCONV-91           [-1, 32, 10, 10]               0\n",
      "           Conv2d-92           [-1, 32, 10, 10]           9,248\n",
      "      BatchNorm2d-93           [-1, 32, 10, 10]              64\n",
      "             ReLU-94           [-1, 32, 10, 10]               0\n",
      "         REBNCONV-95           [-1, 32, 10, 10]               0\n",
      "           Conv2d-96           [-1, 32, 10, 10]          18,464\n",
      "      BatchNorm2d-97           [-1, 32, 10, 10]              64\n",
      "             ReLU-98           [-1, 32, 10, 10]               0\n",
      "         REBNCONV-99           [-1, 32, 10, 10]               0\n",
      "          Conv2d-100           [-1, 32, 20, 20]          18,464\n",
      "     BatchNorm2d-101           [-1, 32, 20, 20]              64\n",
      "            ReLU-102           [-1, 32, 20, 20]               0\n",
      "        REBNCONV-103           [-1, 32, 20, 20]               0\n",
      "          Conv2d-104           [-1, 32, 40, 40]          18,464\n",
      "     BatchNorm2d-105           [-1, 32, 40, 40]              64\n",
      "            ReLU-106           [-1, 32, 40, 40]               0\n",
      "        REBNCONV-107           [-1, 32, 40, 40]               0\n",
      "          Conv2d-108           [-1, 32, 80, 80]          18,464\n",
      "     BatchNorm2d-109           [-1, 32, 80, 80]              64\n",
      "            ReLU-110           [-1, 32, 80, 80]               0\n",
      "        REBNCONV-111           [-1, 32, 80, 80]               0\n",
      "          Conv2d-112        [-1, 128, 160, 160]          73,856\n",
      "     BatchNorm2d-113        [-1, 128, 160, 160]             256\n",
      "            ReLU-114        [-1, 128, 160, 160]               0\n",
      "        REBNCONV-115        [-1, 128, 160, 160]               0\n",
      "            RSU6-116        [-1, 128, 160, 160]               0\n",
      "       MaxPool2d-117          [-1, 128, 80, 80]               0\n",
      "          Conv2d-118          [-1, 256, 80, 80]         295,168\n",
      "     BatchNorm2d-119          [-1, 256, 80, 80]             512\n",
      "            ReLU-120          [-1, 256, 80, 80]               0\n",
      "        REBNCONV-121          [-1, 256, 80, 80]               0\n",
      "          Conv2d-122           [-1, 64, 80, 80]         147,520\n",
      "     BatchNorm2d-123           [-1, 64, 80, 80]             128\n",
      "            ReLU-124           [-1, 64, 80, 80]               0\n",
      "        REBNCONV-125           [-1, 64, 80, 80]               0\n",
      "       MaxPool2d-126           [-1, 64, 40, 40]               0\n",
      "          Conv2d-127           [-1, 64, 40, 40]          36,928\n",
      "     BatchNorm2d-128           [-1, 64, 40, 40]             128\n",
      "            ReLU-129           [-1, 64, 40, 40]               0\n",
      "        REBNCONV-130           [-1, 64, 40, 40]               0\n",
      "       MaxPool2d-131           [-1, 64, 20, 20]               0\n",
      "          Conv2d-132           [-1, 64, 20, 20]          36,928\n",
      "     BatchNorm2d-133           [-1, 64, 20, 20]             128\n",
      "            ReLU-134           [-1, 64, 20, 20]               0\n",
      "        REBNCONV-135           [-1, 64, 20, 20]               0\n",
      "       MaxPool2d-136           [-1, 64, 10, 10]               0\n",
      "          Conv2d-137           [-1, 64, 10, 10]          36,928\n",
      "     BatchNorm2d-138           [-1, 64, 10, 10]             128\n",
      "            ReLU-139           [-1, 64, 10, 10]               0\n",
      "        REBNCONV-140           [-1, 64, 10, 10]               0\n",
      "          Conv2d-141           [-1, 64, 10, 10]          36,928\n",
      "     BatchNorm2d-142           [-1, 64, 10, 10]             128\n",
      "            ReLU-143           [-1, 64, 10, 10]               0\n",
      "        REBNCONV-144           [-1, 64, 10, 10]               0\n",
      "          Conv2d-145           [-1, 64, 10, 10]          73,792\n",
      "     BatchNorm2d-146           [-1, 64, 10, 10]             128\n",
      "            ReLU-147           [-1, 64, 10, 10]               0\n",
      "        REBNCONV-148           [-1, 64, 10, 10]               0\n",
      "          Conv2d-149           [-1, 64, 20, 20]          73,792\n",
      "     BatchNorm2d-150           [-1, 64, 20, 20]             128\n",
      "            ReLU-151           [-1, 64, 20, 20]               0\n",
      "        REBNCONV-152           [-1, 64, 20, 20]               0\n",
      "          Conv2d-153           [-1, 64, 40, 40]          73,792\n",
      "     BatchNorm2d-154           [-1, 64, 40, 40]             128\n",
      "            ReLU-155           [-1, 64, 40, 40]               0\n",
      "        REBNCONV-156           [-1, 64, 40, 40]               0\n",
      "          Conv2d-157          [-1, 256, 80, 80]         295,168\n",
      "     BatchNorm2d-158          [-1, 256, 80, 80]             512\n",
      "            ReLU-159          [-1, 256, 80, 80]               0\n",
      "        REBNCONV-160          [-1, 256, 80, 80]               0\n",
      "            RSU5-161          [-1, 256, 80, 80]               0\n",
      "       MaxPool2d-162          [-1, 256, 40, 40]               0\n",
      "          Conv2d-163          [-1, 512, 40, 40]       1,180,160\n",
      "     BatchNorm2d-164          [-1, 512, 40, 40]           1,024\n",
      "            ReLU-165          [-1, 512, 40, 40]               0\n",
      "        REBNCONV-166          [-1, 512, 40, 40]               0\n",
      "          Conv2d-167          [-1, 128, 40, 40]         589,952\n",
      "     BatchNorm2d-168          [-1, 128, 40, 40]             256\n",
      "            ReLU-169          [-1, 128, 40, 40]               0\n",
      "        REBNCONV-170          [-1, 128, 40, 40]               0\n",
      "       MaxPool2d-171          [-1, 128, 20, 20]               0\n",
      "          Conv2d-172          [-1, 128, 20, 20]         147,584\n",
      "     BatchNorm2d-173          [-1, 128, 20, 20]             256\n",
      "            ReLU-174          [-1, 128, 20, 20]               0\n",
      "        REBNCONV-175          [-1, 128, 20, 20]               0\n",
      "       MaxPool2d-176          [-1, 128, 10, 10]               0\n",
      "          Conv2d-177          [-1, 128, 10, 10]         147,584\n",
      "     BatchNorm2d-178          [-1, 128, 10, 10]             256\n",
      "            ReLU-179          [-1, 128, 10, 10]               0\n",
      "        REBNCONV-180          [-1, 128, 10, 10]               0\n",
      "          Conv2d-181          [-1, 128, 10, 10]         147,584\n",
      "     BatchNorm2d-182          [-1, 128, 10, 10]             256\n",
      "            ReLU-183          [-1, 128, 10, 10]               0\n",
      "        REBNCONV-184          [-1, 128, 10, 10]               0\n",
      "          Conv2d-185          [-1, 128, 10, 10]         295,040\n",
      "     BatchNorm2d-186          [-1, 128, 10, 10]             256\n",
      "            ReLU-187          [-1, 128, 10, 10]               0\n",
      "        REBNCONV-188          [-1, 128, 10, 10]               0\n",
      "          Conv2d-189          [-1, 128, 20, 20]         295,040\n",
      "     BatchNorm2d-190          [-1, 128, 20, 20]             256\n",
      "            ReLU-191          [-1, 128, 20, 20]               0\n",
      "        REBNCONV-192          [-1, 128, 20, 20]               0\n",
      "          Conv2d-193          [-1, 512, 40, 40]       1,180,160\n",
      "     BatchNorm2d-194          [-1, 512, 40, 40]           1,024\n",
      "            ReLU-195          [-1, 512, 40, 40]               0\n",
      "        REBNCONV-196          [-1, 512, 40, 40]               0\n",
      "            RSU4-197          [-1, 512, 40, 40]               0\n",
      "       MaxPool2d-198          [-1, 512, 20, 20]               0\n",
      "          Conv2d-199          [-1, 512, 20, 20]       2,359,808\n",
      "     BatchNorm2d-200          [-1, 512, 20, 20]           1,024\n",
      "            ReLU-201          [-1, 512, 20, 20]               0\n",
      "        REBNCONV-202          [-1, 512, 20, 20]               0\n",
      "          Conv2d-203          [-1, 256, 20, 20]       1,179,904\n",
      "     BatchNorm2d-204          [-1, 256, 20, 20]             512\n",
      "            ReLU-205          [-1, 256, 20, 20]               0\n",
      "        REBNCONV-206          [-1, 256, 20, 20]               0\n",
      "          Conv2d-207          [-1, 256, 20, 20]         590,080\n",
      "     BatchNorm2d-208          [-1, 256, 20, 20]             512\n",
      "            ReLU-209          [-1, 256, 20, 20]               0\n",
      "        REBNCONV-210          [-1, 256, 20, 20]               0\n",
      "          Conv2d-211          [-1, 256, 20, 20]         590,080\n",
      "     BatchNorm2d-212          [-1, 256, 20, 20]             512\n",
      "            ReLU-213          [-1, 256, 20, 20]               0\n",
      "        REBNCONV-214          [-1, 256, 20, 20]               0\n",
      "          Conv2d-215          [-1, 256, 20, 20]         590,080\n",
      "     BatchNorm2d-216          [-1, 256, 20, 20]             512\n",
      "            ReLU-217          [-1, 256, 20, 20]               0\n",
      "        REBNCONV-218          [-1, 256, 20, 20]               0\n",
      "          Conv2d-219          [-1, 256, 20, 20]       1,179,904\n",
      "     BatchNorm2d-220          [-1, 256, 20, 20]             512\n",
      "            ReLU-221          [-1, 256, 20, 20]               0\n",
      "        REBNCONV-222          [-1, 256, 20, 20]               0\n",
      "          Conv2d-223          [-1, 256, 20, 20]       1,179,904\n",
      "     BatchNorm2d-224          [-1, 256, 20, 20]             512\n",
      "            ReLU-225          [-1, 256, 20, 20]               0\n",
      "        REBNCONV-226          [-1, 256, 20, 20]               0\n",
      "          Conv2d-227          [-1, 512, 20, 20]       2,359,808\n",
      "     BatchNorm2d-228          [-1, 512, 20, 20]           1,024\n",
      "            ReLU-229          [-1, 512, 20, 20]               0\n",
      "        REBNCONV-230          [-1, 512, 20, 20]               0\n",
      "           RSU4F-231          [-1, 512, 20, 20]               0\n",
      "       MaxPool2d-232          [-1, 512, 10, 10]               0\n",
      "          Conv2d-233          [-1, 512, 10, 10]       2,359,808\n",
      "     BatchNorm2d-234          [-1, 512, 10, 10]           1,024\n",
      "            ReLU-235          [-1, 512, 10, 10]               0\n",
      "        REBNCONV-236          [-1, 512, 10, 10]               0\n",
      "          Conv2d-237          [-1, 256, 10, 10]       1,179,904\n",
      "     BatchNorm2d-238          [-1, 256, 10, 10]             512\n",
      "            ReLU-239          [-1, 256, 10, 10]               0\n",
      "        REBNCONV-240          [-1, 256, 10, 10]               0\n",
      "          Conv2d-241          [-1, 256, 10, 10]         590,080\n",
      "     BatchNorm2d-242          [-1, 256, 10, 10]             512\n",
      "            ReLU-243          [-1, 256, 10, 10]               0\n",
      "        REBNCONV-244          [-1, 256, 10, 10]               0\n",
      "          Conv2d-245          [-1, 256, 10, 10]         590,080\n",
      "     BatchNorm2d-246          [-1, 256, 10, 10]             512\n",
      "            ReLU-247          [-1, 256, 10, 10]               0\n",
      "        REBNCONV-248          [-1, 256, 10, 10]               0\n",
      "          Conv2d-249          [-1, 256, 10, 10]         590,080\n",
      "     BatchNorm2d-250          [-1, 256, 10, 10]             512\n",
      "            ReLU-251          [-1, 256, 10, 10]               0\n",
      "        REBNCONV-252          [-1, 256, 10, 10]               0\n",
      "          Conv2d-253          [-1, 256, 10, 10]       1,179,904\n",
      "     BatchNorm2d-254          [-1, 256, 10, 10]             512\n",
      "            ReLU-255          [-1, 256, 10, 10]               0\n",
      "        REBNCONV-256          [-1, 256, 10, 10]               0\n",
      "          Conv2d-257          [-1, 256, 10, 10]       1,179,904\n",
      "     BatchNorm2d-258          [-1, 256, 10, 10]             512\n",
      "            ReLU-259          [-1, 256, 10, 10]               0\n",
      "        REBNCONV-260          [-1, 256, 10, 10]               0\n",
      "          Conv2d-261          [-1, 512, 10, 10]       2,359,808\n",
      "     BatchNorm2d-262          [-1, 512, 10, 10]           1,024\n",
      "            ReLU-263          [-1, 512, 10, 10]               0\n",
      "        REBNCONV-264          [-1, 512, 10, 10]               0\n",
      "           RSU4F-265          [-1, 512, 10, 10]               0\n",
      "          Conv2d-266          [-1, 512, 20, 20]       4,719,104\n",
      "     BatchNorm2d-267          [-1, 512, 20, 20]           1,024\n",
      "            ReLU-268          [-1, 512, 20, 20]               0\n",
      "        REBNCONV-269          [-1, 512, 20, 20]               0\n",
      "          Conv2d-270          [-1, 256, 20, 20]       1,179,904\n",
      "     BatchNorm2d-271          [-1, 256, 20, 20]             512\n",
      "            ReLU-272          [-1, 256, 20, 20]               0\n",
      "        REBNCONV-273          [-1, 256, 20, 20]               0\n",
      "          Conv2d-274          [-1, 256, 20, 20]         590,080\n",
      "     BatchNorm2d-275          [-1, 256, 20, 20]             512\n",
      "            ReLU-276          [-1, 256, 20, 20]               0\n",
      "        REBNCONV-277          [-1, 256, 20, 20]               0\n",
      "          Conv2d-278          [-1, 256, 20, 20]         590,080\n",
      "     BatchNorm2d-279          [-1, 256, 20, 20]             512\n",
      "            ReLU-280          [-1, 256, 20, 20]               0\n",
      "        REBNCONV-281          [-1, 256, 20, 20]               0\n",
      "          Conv2d-282          [-1, 256, 20, 20]         590,080\n",
      "     BatchNorm2d-283          [-1, 256, 20, 20]             512\n",
      "            ReLU-284          [-1, 256, 20, 20]               0\n",
      "        REBNCONV-285          [-1, 256, 20, 20]               0\n",
      "          Conv2d-286          [-1, 256, 20, 20]       1,179,904\n",
      "     BatchNorm2d-287          [-1, 256, 20, 20]             512\n",
      "            ReLU-288          [-1, 256, 20, 20]               0\n",
      "        REBNCONV-289          [-1, 256, 20, 20]               0\n",
      "          Conv2d-290          [-1, 256, 20, 20]       1,179,904\n",
      "     BatchNorm2d-291          [-1, 256, 20, 20]             512\n",
      "            ReLU-292          [-1, 256, 20, 20]               0\n",
      "        REBNCONV-293          [-1, 256, 20, 20]               0\n",
      "          Conv2d-294          [-1, 512, 20, 20]       2,359,808\n",
      "     BatchNorm2d-295          [-1, 512, 20, 20]           1,024\n",
      "            ReLU-296          [-1, 512, 20, 20]               0\n",
      "        REBNCONV-297          [-1, 512, 20, 20]               0\n",
      "           RSU4F-298          [-1, 512, 20, 20]               0\n",
      "          Conv2d-299          [-1, 256, 40, 40]       2,359,552\n",
      "     BatchNorm2d-300          [-1, 256, 40, 40]             512\n",
      "            ReLU-301          [-1, 256, 40, 40]               0\n",
      "        REBNCONV-302          [-1, 256, 40, 40]               0\n",
      "          Conv2d-303          [-1, 128, 40, 40]         295,040\n",
      "     BatchNorm2d-304          [-1, 128, 40, 40]             256\n",
      "            ReLU-305          [-1, 128, 40, 40]               0\n",
      "        REBNCONV-306          [-1, 128, 40, 40]               0\n",
      "       MaxPool2d-307          [-1, 128, 20, 20]               0\n",
      "          Conv2d-308          [-1, 128, 20, 20]         147,584\n",
      "     BatchNorm2d-309          [-1, 128, 20, 20]             256\n",
      "            ReLU-310          [-1, 128, 20, 20]               0\n",
      "        REBNCONV-311          [-1, 128, 20, 20]               0\n",
      "       MaxPool2d-312          [-1, 128, 10, 10]               0\n",
      "          Conv2d-313          [-1, 128, 10, 10]         147,584\n",
      "     BatchNorm2d-314          [-1, 128, 10, 10]             256\n",
      "            ReLU-315          [-1, 128, 10, 10]               0\n",
      "        REBNCONV-316          [-1, 128, 10, 10]               0\n",
      "          Conv2d-317          [-1, 128, 10, 10]         147,584\n",
      "     BatchNorm2d-318          [-1, 128, 10, 10]             256\n",
      "            ReLU-319          [-1, 128, 10, 10]               0\n",
      "        REBNCONV-320          [-1, 128, 10, 10]               0\n",
      "          Conv2d-321          [-1, 128, 10, 10]         295,040\n",
      "     BatchNorm2d-322          [-1, 128, 10, 10]             256\n",
      "            ReLU-323          [-1, 128, 10, 10]               0\n",
      "        REBNCONV-324          [-1, 128, 10, 10]               0\n",
      "          Conv2d-325          [-1, 128, 20, 20]         295,040\n",
      "     BatchNorm2d-326          [-1, 128, 20, 20]             256\n",
      "            ReLU-327          [-1, 128, 20, 20]               0\n",
      "        REBNCONV-328          [-1, 128, 20, 20]               0\n",
      "          Conv2d-329          [-1, 256, 40, 40]         590,080\n",
      "     BatchNorm2d-330          [-1, 256, 40, 40]             512\n",
      "            ReLU-331          [-1, 256, 40, 40]               0\n",
      "        REBNCONV-332          [-1, 256, 40, 40]               0\n",
      "            RSU4-333          [-1, 256, 40, 40]               0\n",
      "          Conv2d-334          [-1, 128, 80, 80]         589,952\n",
      "     BatchNorm2d-335          [-1, 128, 80, 80]             256\n",
      "            ReLU-336          [-1, 128, 80, 80]               0\n",
      "        REBNCONV-337          [-1, 128, 80, 80]               0\n",
      "          Conv2d-338           [-1, 64, 80, 80]          73,792\n",
      "     BatchNorm2d-339           [-1, 64, 80, 80]             128\n",
      "            ReLU-340           [-1, 64, 80, 80]               0\n",
      "        REBNCONV-341           [-1, 64, 80, 80]               0\n",
      "       MaxPool2d-342           [-1, 64, 40, 40]               0\n",
      "          Conv2d-343           [-1, 64, 40, 40]          36,928\n",
      "     BatchNorm2d-344           [-1, 64, 40, 40]             128\n",
      "            ReLU-345           [-1, 64, 40, 40]               0\n",
      "        REBNCONV-346           [-1, 64, 40, 40]               0\n",
      "       MaxPool2d-347           [-1, 64, 20, 20]               0\n",
      "          Conv2d-348           [-1, 64, 20, 20]          36,928\n",
      "     BatchNorm2d-349           [-1, 64, 20, 20]             128\n",
      "            ReLU-350           [-1, 64, 20, 20]               0\n",
      "        REBNCONV-351           [-1, 64, 20, 20]               0\n",
      "       MaxPool2d-352           [-1, 64, 10, 10]               0\n",
      "          Conv2d-353           [-1, 64, 10, 10]          36,928\n",
      "     BatchNorm2d-354           [-1, 64, 10, 10]             128\n",
      "            ReLU-355           [-1, 64, 10, 10]               0\n",
      "        REBNCONV-356           [-1, 64, 10, 10]               0\n",
      "          Conv2d-357           [-1, 64, 10, 10]          36,928\n",
      "     BatchNorm2d-358           [-1, 64, 10, 10]             128\n",
      "            ReLU-359           [-1, 64, 10, 10]               0\n",
      "        REBNCONV-360           [-1, 64, 10, 10]               0\n",
      "          Conv2d-361           [-1, 64, 10, 10]          73,792\n",
      "     BatchNorm2d-362           [-1, 64, 10, 10]             128\n",
      "            ReLU-363           [-1, 64, 10, 10]               0\n",
      "        REBNCONV-364           [-1, 64, 10, 10]               0\n",
      "          Conv2d-365           [-1, 64, 20, 20]          73,792\n",
      "     BatchNorm2d-366           [-1, 64, 20, 20]             128\n",
      "            ReLU-367           [-1, 64, 20, 20]               0\n",
      "        REBNCONV-368           [-1, 64, 20, 20]               0\n",
      "          Conv2d-369           [-1, 64, 40, 40]          73,792\n",
      "     BatchNorm2d-370           [-1, 64, 40, 40]             128\n",
      "            ReLU-371           [-1, 64, 40, 40]               0\n",
      "        REBNCONV-372           [-1, 64, 40, 40]               0\n",
      "          Conv2d-373          [-1, 128, 80, 80]         147,584\n",
      "     BatchNorm2d-374          [-1, 128, 80, 80]             256\n",
      "            ReLU-375          [-1, 128, 80, 80]               0\n",
      "        REBNCONV-376          [-1, 128, 80, 80]               0\n",
      "            RSU5-377          [-1, 128, 80, 80]               0\n",
      "          Conv2d-378         [-1, 64, 160, 160]         147,520\n",
      "     BatchNorm2d-379         [-1, 64, 160, 160]             128\n",
      "            ReLU-380         [-1, 64, 160, 160]               0\n",
      "        REBNCONV-381         [-1, 64, 160, 160]               0\n",
      "          Conv2d-382         [-1, 32, 160, 160]          18,464\n",
      "     BatchNorm2d-383         [-1, 32, 160, 160]              64\n",
      "            ReLU-384         [-1, 32, 160, 160]               0\n",
      "        REBNCONV-385         [-1, 32, 160, 160]               0\n",
      "       MaxPool2d-386           [-1, 32, 80, 80]               0\n",
      "          Conv2d-387           [-1, 32, 80, 80]           9,248\n",
      "     BatchNorm2d-388           [-1, 32, 80, 80]              64\n",
      "            ReLU-389           [-1, 32, 80, 80]               0\n",
      "        REBNCONV-390           [-1, 32, 80, 80]               0\n",
      "       MaxPool2d-391           [-1, 32, 40, 40]               0\n",
      "          Conv2d-392           [-1, 32, 40, 40]           9,248\n",
      "     BatchNorm2d-393           [-1, 32, 40, 40]              64\n",
      "            ReLU-394           [-1, 32, 40, 40]               0\n",
      "        REBNCONV-395           [-1, 32, 40, 40]               0\n",
      "       MaxPool2d-396           [-1, 32, 20, 20]               0\n",
      "          Conv2d-397           [-1, 32, 20, 20]           9,248\n",
      "     BatchNorm2d-398           [-1, 32, 20, 20]              64\n",
      "            ReLU-399           [-1, 32, 20, 20]               0\n",
      "        REBNCONV-400           [-1, 32, 20, 20]               0\n",
      "       MaxPool2d-401           [-1, 32, 10, 10]               0\n",
      "          Conv2d-402           [-1, 32, 10, 10]           9,248\n",
      "     BatchNorm2d-403           [-1, 32, 10, 10]              64\n",
      "            ReLU-404           [-1, 32, 10, 10]               0\n",
      "        REBNCONV-405           [-1, 32, 10, 10]               0\n",
      "          Conv2d-406           [-1, 32, 10, 10]           9,248\n",
      "     BatchNorm2d-407           [-1, 32, 10, 10]              64\n",
      "            ReLU-408           [-1, 32, 10, 10]               0\n",
      "        REBNCONV-409           [-1, 32, 10, 10]               0\n",
      "          Conv2d-410           [-1, 32, 10, 10]          18,464\n",
      "     BatchNorm2d-411           [-1, 32, 10, 10]              64\n",
      "            ReLU-412           [-1, 32, 10, 10]               0\n",
      "        REBNCONV-413           [-1, 32, 10, 10]               0\n",
      "          Conv2d-414           [-1, 32, 20, 20]          18,464\n",
      "     BatchNorm2d-415           [-1, 32, 20, 20]              64\n",
      "            ReLU-416           [-1, 32, 20, 20]               0\n",
      "        REBNCONV-417           [-1, 32, 20, 20]               0\n",
      "          Conv2d-418           [-1, 32, 40, 40]          18,464\n",
      "     BatchNorm2d-419           [-1, 32, 40, 40]              64\n",
      "            ReLU-420           [-1, 32, 40, 40]               0\n",
      "        REBNCONV-421           [-1, 32, 40, 40]               0\n",
      "          Conv2d-422           [-1, 32, 80, 80]          18,464\n",
      "     BatchNorm2d-423           [-1, 32, 80, 80]              64\n",
      "            ReLU-424           [-1, 32, 80, 80]               0\n",
      "        REBNCONV-425           [-1, 32, 80, 80]               0\n",
      "          Conv2d-426         [-1, 64, 160, 160]          36,928\n",
      "     BatchNorm2d-427         [-1, 64, 160, 160]             128\n",
      "            ReLU-428         [-1, 64, 160, 160]               0\n",
      "        REBNCONV-429         [-1, 64, 160, 160]               0\n",
      "            RSU6-430         [-1, 64, 160, 160]               0\n",
      "          Conv2d-431         [-1, 64, 320, 320]          73,792\n",
      "     BatchNorm2d-432         [-1, 64, 320, 320]             128\n",
      "            ReLU-433         [-1, 64, 320, 320]               0\n",
      "        REBNCONV-434         [-1, 64, 320, 320]               0\n",
      "          Conv2d-435         [-1, 16, 320, 320]           9,232\n",
      "     BatchNorm2d-436         [-1, 16, 320, 320]              32\n",
      "            ReLU-437         [-1, 16, 320, 320]               0\n",
      "        REBNCONV-438         [-1, 16, 320, 320]               0\n",
      "       MaxPool2d-439         [-1, 16, 160, 160]               0\n",
      "          Conv2d-440         [-1, 16, 160, 160]           2,320\n",
      "     BatchNorm2d-441         [-1, 16, 160, 160]              32\n",
      "            ReLU-442         [-1, 16, 160, 160]               0\n",
      "        REBNCONV-443         [-1, 16, 160, 160]               0\n",
      "       MaxPool2d-444           [-1, 16, 80, 80]               0\n",
      "          Conv2d-445           [-1, 16, 80, 80]           2,320\n",
      "     BatchNorm2d-446           [-1, 16, 80, 80]              32\n",
      "            ReLU-447           [-1, 16, 80, 80]               0\n",
      "        REBNCONV-448           [-1, 16, 80, 80]               0\n",
      "       MaxPool2d-449           [-1, 16, 40, 40]               0\n",
      "          Conv2d-450           [-1, 16, 40, 40]           2,320\n",
      "     BatchNorm2d-451           [-1, 16, 40, 40]              32\n",
      "            ReLU-452           [-1, 16, 40, 40]               0\n",
      "        REBNCONV-453           [-1, 16, 40, 40]               0\n",
      "       MaxPool2d-454           [-1, 16, 20, 20]               0\n",
      "          Conv2d-455           [-1, 16, 20, 20]           2,320\n",
      "     BatchNorm2d-456           [-1, 16, 20, 20]              32\n",
      "            ReLU-457           [-1, 16, 20, 20]               0\n",
      "        REBNCONV-458           [-1, 16, 20, 20]               0\n",
      "       MaxPool2d-459           [-1, 16, 10, 10]               0\n",
      "          Conv2d-460           [-1, 16, 10, 10]           2,320\n",
      "     BatchNorm2d-461           [-1, 16, 10, 10]              32\n",
      "            ReLU-462           [-1, 16, 10, 10]               0\n",
      "        REBNCONV-463           [-1, 16, 10, 10]               0\n",
      "          Conv2d-464           [-1, 16, 10, 10]           2,320\n",
      "     BatchNorm2d-465           [-1, 16, 10, 10]              32\n",
      "            ReLU-466           [-1, 16, 10, 10]               0\n",
      "        REBNCONV-467           [-1, 16, 10, 10]               0\n",
      "          Conv2d-468           [-1, 16, 10, 10]           4,624\n",
      "     BatchNorm2d-469           [-1, 16, 10, 10]              32\n",
      "            ReLU-470           [-1, 16, 10, 10]               0\n",
      "        REBNCONV-471           [-1, 16, 10, 10]               0\n",
      "          Conv2d-472           [-1, 16, 20, 20]           4,624\n",
      "     BatchNorm2d-473           [-1, 16, 20, 20]              32\n",
      "            ReLU-474           [-1, 16, 20, 20]               0\n",
      "        REBNCONV-475           [-1, 16, 20, 20]               0\n",
      "          Conv2d-476           [-1, 16, 40, 40]           4,624\n",
      "     BatchNorm2d-477           [-1, 16, 40, 40]              32\n",
      "            ReLU-478           [-1, 16, 40, 40]               0\n",
      "        REBNCONV-479           [-1, 16, 40, 40]               0\n",
      "          Conv2d-480           [-1, 16, 80, 80]           4,624\n",
      "     BatchNorm2d-481           [-1, 16, 80, 80]              32\n",
      "            ReLU-482           [-1, 16, 80, 80]               0\n",
      "        REBNCONV-483           [-1, 16, 80, 80]               0\n",
      "          Conv2d-484         [-1, 16, 160, 160]           4,624\n",
      "     BatchNorm2d-485         [-1, 16, 160, 160]              32\n",
      "            ReLU-486         [-1, 16, 160, 160]               0\n",
      "        REBNCONV-487         [-1, 16, 160, 160]               0\n",
      "          Conv2d-488         [-1, 64, 320, 320]          18,496\n",
      "     BatchNorm2d-489         [-1, 64, 320, 320]             128\n",
      "            ReLU-490         [-1, 64, 320, 320]               0\n",
      "        REBNCONV-491         [-1, 64, 320, 320]               0\n",
      "            RSU7-492         [-1, 64, 320, 320]               0\n",
      "          Conv2d-493          [-1, 1, 320, 320]             577\n",
      "          Conv2d-494          [-1, 1, 160, 160]             577\n",
      "          Conv2d-495            [-1, 1, 80, 80]           1,153\n",
      "          Conv2d-496            [-1, 1, 40, 40]           2,305\n",
      "          Conv2d-497            [-1, 1, 20, 20]           4,609\n",
      "          Conv2d-498            [-1, 1, 10, 10]           4,609\n",
      "          Conv2d-499          [-1, 1, 320, 320]               7\n",
      "================================================================\n",
      "Total params: 44,009,869\n",
      "Trainable params: 44,009,869\n",
      "Non-trainable params: 0\n",
      "----------------------------------------------------------------\n",
      "Input size (MB): 1.17\n",
      "Forward/backward pass size (MB): 2006.11\n",
      "Params size (MB): 167.88\n",
      "Estimated Total Size (MB): 2175.16\n",
      "----------------------------------------------------------------\n"
     ]
    }
   ],
   "source": [
    "from torchsummary import summary\n",
    "summary(model, input_size=(3, 320, 320))  # Input size: channels, height, width"
   ]
  },
  {
   "cell_type": "code",
   "execution_count": 10,
   "metadata": {
    "execution": {
     "iopub.execute_input": "2024-11-20T22:28:40.177235Z",
     "iopub.status.busy": "2024-11-20T22:28:40.176527Z",
     "iopub.status.idle": "2024-11-20T22:28:40.184169Z",
     "shell.execute_reply": "2024-11-20T22:28:40.183210Z",
     "shell.execute_reply.started": "2024-11-20T22:28:40.177192Z"
    },
    "id": "amzr32rJeUob",
    "trusted": true
   },
   "outputs": [],
   "source": [
    "import torch.optim as optim\n",
    "\n",
    "import torch.nn as nn\n",
    "\n",
    "\n",
    "\n",
    "# Define loss function (Binary Cross Entropy)\n",
    "\n",
    "criterion = nn.BCELoss()\n",
    "\n",
    "\n",
    "\n",
    "# Define the optimizer (Adam optimizer is generally effective for segmentation tasks)\n",
    "\n",
    "optimizer = optim.Adam(model.parameters(), lr=0.001)\n"
   ]
  },
  {
   "cell_type": "code",
   "execution_count": 11,
   "metadata": {
    "execution": {
     "iopub.execute_input": "2024-11-20T22:28:40.187025Z",
     "iopub.status.busy": "2024-11-20T22:28:40.186710Z",
     "iopub.status.idle": "2024-11-21T00:59:05.818820Z",
     "shell.execute_reply": "2024-11-21T00:59:05.817755Z",
     "shell.execute_reply.started": "2024-11-20T22:28:40.186998Z"
    },
    "id": "_GNwKZo4jQEZ",
    "trusted": true
   },
   "outputs": [
    {
     "name": "stdout",
     "output_type": "stream",
     "text": [
      "Using device: cuda\n",
      "Using 2 GPUs!\n"
     ]
    },
    {
     "name": "stderr",
     "output_type": "stream",
     "text": [
      "Training Epoch 1/50:   0%|          | 0/307 [00:00<?, ?it/s]/opt/conda/lib/python3.10/site-packages/torch/nn/parallel/parallel_apply.py:79: FutureWarning: `torch.cuda.amp.autocast(args...)` is deprecated. Please use `torch.amp.autocast('cuda', args...)` instead.\n",
      "  with torch.cuda.device(device), torch.cuda.stream(stream), autocast(enabled=autocast_enabled):\n",
      "                                                                      \r"
     ]
    },
    {
     "name": "stdout",
     "output_type": "stream",
     "text": [
      "Epoch [1/50], Loss: 0.0463\n"
     ]
    },
    {
     "name": "stderr",
     "output_type": "stream",
     "text": [
      "                                                                      \r"
     ]
    },
    {
     "name": "stdout",
     "output_type": "stream",
     "text": [
      "Validation Loss: 0.0347, Validation Accuracy: 0.9865\n"
     ]
    },
    {
     "name": "stderr",
     "output_type": "stream",
     "text": [
      "                                                                      \r"
     ]
    },
    {
     "name": "stdout",
     "output_type": "stream",
     "text": [
      "Epoch [2/50], Loss: 0.0336\n"
     ]
    },
    {
     "name": "stderr",
     "output_type": "stream",
     "text": [
      "                                                                      \r"
     ]
    },
    {
     "name": "stdout",
     "output_type": "stream",
     "text": [
      "Validation Loss: 0.0404, Validation Accuracy: 0.9840\n"
     ]
    },
    {
     "name": "stderr",
     "output_type": "stream",
     "text": [
      "                                                                      \r"
     ]
    },
    {
     "name": "stdout",
     "output_type": "stream",
     "text": [
      "Epoch [3/50], Loss: 0.0287\n"
     ]
    },
    {
     "name": "stderr",
     "output_type": "stream",
     "text": [
      "                                                                      \r"
     ]
    },
    {
     "name": "stdout",
     "output_type": "stream",
     "text": [
      "Validation Loss: 0.0292, Validation Accuracy: 0.9889\n"
     ]
    },
    {
     "name": "stderr",
     "output_type": "stream",
     "text": [
      "                                                                      \r"
     ]
    },
    {
     "name": "stdout",
     "output_type": "stream",
     "text": [
      "Epoch [4/50], Loss: 0.0241\n"
     ]
    },
    {
     "name": "stderr",
     "output_type": "stream",
     "text": [
      "                                                                      \r"
     ]
    },
    {
     "name": "stdout",
     "output_type": "stream",
     "text": [
      "Validation Loss: 0.0216, Validation Accuracy: 0.9907\n"
     ]
    },
    {
     "name": "stderr",
     "output_type": "stream",
     "text": [
      "                                                                      \r"
     ]
    },
    {
     "name": "stdout",
     "output_type": "stream",
     "text": [
      "Epoch [5/50], Loss: 0.0219\n"
     ]
    },
    {
     "name": "stderr",
     "output_type": "stream",
     "text": [
      "                                                                      \r"
     ]
    },
    {
     "name": "stdout",
     "output_type": "stream",
     "text": [
      "Validation Loss: 0.0205, Validation Accuracy: 0.9910\n"
     ]
    },
    {
     "name": "stderr",
     "output_type": "stream",
     "text": [
      "                                                                      \r"
     ]
    },
    {
     "name": "stdout",
     "output_type": "stream",
     "text": [
      "Epoch [6/50], Loss: 0.0229\n"
     ]
    },
    {
     "name": "stderr",
     "output_type": "stream",
     "text": [
      "                                                                      \r"
     ]
    },
    {
     "name": "stdout",
     "output_type": "stream",
     "text": [
      "Validation Loss: 0.0201, Validation Accuracy: 0.9915\n"
     ]
    },
    {
     "name": "stderr",
     "output_type": "stream",
     "text": [
      "                                                                      \r"
     ]
    },
    {
     "name": "stdout",
     "output_type": "stream",
     "text": [
      "Epoch [7/50], Loss: 0.0204\n"
     ]
    },
    {
     "name": "stderr",
     "output_type": "stream",
     "text": [
      "                                                                      \r"
     ]
    },
    {
     "name": "stdout",
     "output_type": "stream",
     "text": [
      "Validation Loss: 0.0169, Validation Accuracy: 0.9922\n"
     ]
    },
    {
     "name": "stderr",
     "output_type": "stream",
     "text": [
      "                                                                      \r"
     ]
    },
    {
     "name": "stdout",
     "output_type": "stream",
     "text": [
      "Epoch [8/50], Loss: 0.0187\n"
     ]
    },
    {
     "name": "stderr",
     "output_type": "stream",
     "text": [
      "                                                                      \r"
     ]
    },
    {
     "name": "stdout",
     "output_type": "stream",
     "text": [
      "Validation Loss: 0.0239, Validation Accuracy: 0.9902\n"
     ]
    },
    {
     "name": "stderr",
     "output_type": "stream",
     "text": [
      "                                                                      \r"
     ]
    },
    {
     "name": "stdout",
     "output_type": "stream",
     "text": [
      "Epoch [9/50], Loss: 0.0172\n"
     ]
    },
    {
     "name": "stderr",
     "output_type": "stream",
     "text": [
      "                                                                      \r"
     ]
    },
    {
     "name": "stdout",
     "output_type": "stream",
     "text": [
      "Validation Loss: 0.0171, Validation Accuracy: 0.9922\n"
     ]
    },
    {
     "name": "stderr",
     "output_type": "stream",
     "text": [
      "                                                                       \r"
     ]
    },
    {
     "name": "stdout",
     "output_type": "stream",
     "text": [
      "Epoch [10/50], Loss: 0.0168\n"
     ]
    },
    {
     "name": "stderr",
     "output_type": "stream",
     "text": [
      "                                                                       \r"
     ]
    },
    {
     "name": "stdout",
     "output_type": "stream",
     "text": [
      "Validation Loss: 0.0163, Validation Accuracy: 0.9926\n"
     ]
    },
    {
     "name": "stderr",
     "output_type": "stream",
     "text": [
      "                                                                       \r"
     ]
    },
    {
     "name": "stdout",
     "output_type": "stream",
     "text": [
      "Epoch [11/50], Loss: 0.0156\n"
     ]
    },
    {
     "name": "stderr",
     "output_type": "stream",
     "text": [
      "                                                                       \r"
     ]
    },
    {
     "name": "stdout",
     "output_type": "stream",
     "text": [
      "Validation Loss: 0.0164, Validation Accuracy: 0.9923\n"
     ]
    },
    {
     "name": "stderr",
     "output_type": "stream",
     "text": [
      "                                                                       \r"
     ]
    },
    {
     "name": "stdout",
     "output_type": "stream",
     "text": [
      "Epoch [12/50], Loss: 0.0153\n"
     ]
    },
    {
     "name": "stderr",
     "output_type": "stream",
     "text": [
      "                                                                       \r"
     ]
    },
    {
     "name": "stdout",
     "output_type": "stream",
     "text": [
      "Validation Loss: 0.0212, Validation Accuracy: 0.9911\n"
     ]
    },
    {
     "name": "stderr",
     "output_type": "stream",
     "text": [
      "                                                                       \r"
     ]
    },
    {
     "name": "stdout",
     "output_type": "stream",
     "text": [
      "Epoch [13/50], Loss: 0.0153\n"
     ]
    },
    {
     "name": "stderr",
     "output_type": "stream",
     "text": [
      "                                                                       \r"
     ]
    },
    {
     "name": "stdout",
     "output_type": "stream",
     "text": [
      "Validation Loss: 0.0158, Validation Accuracy: 0.9924\n"
     ]
    },
    {
     "name": "stderr",
     "output_type": "stream",
     "text": [
      "                                                                       \r"
     ]
    },
    {
     "name": "stdout",
     "output_type": "stream",
     "text": [
      "Epoch [14/50], Loss: 0.0131\n"
     ]
    },
    {
     "name": "stderr",
     "output_type": "stream",
     "text": [
      "                                                                       \r"
     ]
    },
    {
     "name": "stdout",
     "output_type": "stream",
     "text": [
      "Validation Loss: 0.0154, Validation Accuracy: 0.9927\n"
     ]
    },
    {
     "name": "stderr",
     "output_type": "stream",
     "text": [
      "                                                                       \r"
     ]
    },
    {
     "name": "stdout",
     "output_type": "stream",
     "text": [
      "Epoch [15/50], Loss: 0.0120\n"
     ]
    },
    {
     "name": "stderr",
     "output_type": "stream",
     "text": [
      "                                                                       \r"
     ]
    },
    {
     "name": "stdout",
     "output_type": "stream",
     "text": [
      "Validation Loss: 0.0153, Validation Accuracy: 0.9929\n"
     ]
    },
    {
     "name": "stderr",
     "output_type": "stream",
     "text": [
      "                                                                       \r"
     ]
    },
    {
     "name": "stdout",
     "output_type": "stream",
     "text": [
      "Epoch [16/50], Loss: 0.0126\n"
     ]
    },
    {
     "name": "stderr",
     "output_type": "stream",
     "text": [
      "                                                                       \r"
     ]
    },
    {
     "name": "stdout",
     "output_type": "stream",
     "text": [
      "Validation Loss: 0.0159, Validation Accuracy: 0.9928\n"
     ]
    },
    {
     "name": "stderr",
     "output_type": "stream",
     "text": [
      "                                                                       \r"
     ]
    },
    {
     "name": "stdout",
     "output_type": "stream",
     "text": [
      "Epoch [17/50], Loss: 0.0112\n"
     ]
    },
    {
     "name": "stderr",
     "output_type": "stream",
     "text": [
      "                                                                       \r"
     ]
    },
    {
     "name": "stdout",
     "output_type": "stream",
     "text": [
      "Validation Loss: 0.0154, Validation Accuracy: 0.9930\n"
     ]
    },
    {
     "name": "stderr",
     "output_type": "stream",
     "text": [
      "                                                                       \r"
     ]
    },
    {
     "name": "stdout",
     "output_type": "stream",
     "text": [
      "Epoch [18/50], Loss: 0.0125\n"
     ]
    },
    {
     "name": "stderr",
     "output_type": "stream",
     "text": [
      "                                                                       \r"
     ]
    },
    {
     "name": "stdout",
     "output_type": "stream",
     "text": [
      "Validation Loss: 0.0170, Validation Accuracy: 0.9923\n"
     ]
    },
    {
     "name": "stderr",
     "output_type": "stream",
     "text": [
      "                                                                       \r"
     ]
    },
    {
     "name": "stdout",
     "output_type": "stream",
     "text": [
      "Epoch [19/50], Loss: 0.0116\n"
     ]
    },
    {
     "name": "stderr",
     "output_type": "stream",
     "text": [
      "                                                                       \r"
     ]
    },
    {
     "name": "stdout",
     "output_type": "stream",
     "text": [
      "Validation Loss: 0.0184, Validation Accuracy: 0.9923\n"
     ]
    },
    {
     "name": "stderr",
     "output_type": "stream",
     "text": [
      "                                                                       \r"
     ]
    },
    {
     "name": "stdout",
     "output_type": "stream",
     "text": [
      "Epoch [20/50], Loss: 0.0106\n"
     ]
    },
    {
     "name": "stderr",
     "output_type": "stream",
     "text": [
      "                                                                       \r"
     ]
    },
    {
     "name": "stdout",
     "output_type": "stream",
     "text": [
      "Validation Loss: 0.0153, Validation Accuracy: 0.9928\n"
     ]
    },
    {
     "name": "stderr",
     "output_type": "stream",
     "text": [
      "                                                                       \r"
     ]
    },
    {
     "name": "stdout",
     "output_type": "stream",
     "text": [
      "Epoch [21/50], Loss: 0.0094\n"
     ]
    },
    {
     "name": "stderr",
     "output_type": "stream",
     "text": [
      "                                                                       \r"
     ]
    },
    {
     "name": "stdout",
     "output_type": "stream",
     "text": [
      "Validation Loss: 0.0145, Validation Accuracy: 0.9934\n"
     ]
    },
    {
     "name": "stderr",
     "output_type": "stream",
     "text": [
      "                                                                       \r"
     ]
    },
    {
     "name": "stdout",
     "output_type": "stream",
     "text": [
      "Epoch [22/50], Loss: 0.0111\n"
     ]
    },
    {
     "name": "stderr",
     "output_type": "stream",
     "text": [
      "                                                                       \r"
     ]
    },
    {
     "name": "stdout",
     "output_type": "stream",
     "text": [
      "Validation Loss: 0.0157, Validation Accuracy: 0.9928\n"
     ]
    },
    {
     "name": "stderr",
     "output_type": "stream",
     "text": [
      "                                                                       \r"
     ]
    },
    {
     "name": "stdout",
     "output_type": "stream",
     "text": [
      "Epoch [23/50], Loss: 0.0092\n"
     ]
    },
    {
     "name": "stderr",
     "output_type": "stream",
     "text": [
      "                                                                       \r"
     ]
    },
    {
     "name": "stdout",
     "output_type": "stream",
     "text": [
      "Validation Loss: 0.0150, Validation Accuracy: 0.9934\n"
     ]
    },
    {
     "name": "stderr",
     "output_type": "stream",
     "text": [
      "                                                                       \r"
     ]
    },
    {
     "name": "stdout",
     "output_type": "stream",
     "text": [
      "Epoch [24/50], Loss: 0.0088\n"
     ]
    },
    {
     "name": "stderr",
     "output_type": "stream",
     "text": [
      "                                                                       \r"
     ]
    },
    {
     "name": "stdout",
     "output_type": "stream",
     "text": [
      "Validation Loss: 0.0153, Validation Accuracy: 0.9935\n"
     ]
    },
    {
     "name": "stderr",
     "output_type": "stream",
     "text": [
      "                                                                       \r"
     ]
    },
    {
     "name": "stdout",
     "output_type": "stream",
     "text": [
      "Epoch [25/50], Loss: 0.0082\n"
     ]
    },
    {
     "name": "stderr",
     "output_type": "stream",
     "text": [
      "                                                                       \r"
     ]
    },
    {
     "name": "stdout",
     "output_type": "stream",
     "text": [
      "Validation Loss: 0.0141, Validation Accuracy: 0.9936\n"
     ]
    },
    {
     "name": "stderr",
     "output_type": "stream",
     "text": [
      "                                                                       \r"
     ]
    },
    {
     "name": "stdout",
     "output_type": "stream",
     "text": [
      "Epoch [26/50], Loss: 0.0076\n"
     ]
    },
    {
     "name": "stderr",
     "output_type": "stream",
     "text": [
      "                                                                       \r"
     ]
    },
    {
     "name": "stdout",
     "output_type": "stream",
     "text": [
      "Validation Loss: 0.0182, Validation Accuracy: 0.9929\n"
     ]
    },
    {
     "name": "stderr",
     "output_type": "stream",
     "text": [
      "                                                                       \r"
     ]
    },
    {
     "name": "stdout",
     "output_type": "stream",
     "text": [
      "Epoch [27/50], Loss: 0.0076\n"
     ]
    },
    {
     "name": "stderr",
     "output_type": "stream",
     "text": [
      "                                                                       \r"
     ]
    },
    {
     "name": "stdout",
     "output_type": "stream",
     "text": [
      "Validation Loss: 0.0160, Validation Accuracy: 0.9935\n"
     ]
    },
    {
     "name": "stderr",
     "output_type": "stream",
     "text": [
      "                                                                       \r"
     ]
    },
    {
     "name": "stdout",
     "output_type": "stream",
     "text": [
      "Epoch [28/50], Loss: 0.0074\n"
     ]
    },
    {
     "name": "stderr",
     "output_type": "stream",
     "text": [
      "                                                                       \r"
     ]
    },
    {
     "name": "stdout",
     "output_type": "stream",
     "text": [
      "Validation Loss: 0.0156, Validation Accuracy: 0.9936\n"
     ]
    },
    {
     "name": "stderr",
     "output_type": "stream",
     "text": [
      "                                                                       \r"
     ]
    },
    {
     "name": "stdout",
     "output_type": "stream",
     "text": [
      "Epoch [29/50], Loss: 0.0075\n"
     ]
    },
    {
     "name": "stderr",
     "output_type": "stream",
     "text": [
      "                                                                       \r"
     ]
    },
    {
     "name": "stdout",
     "output_type": "stream",
     "text": [
      "Validation Loss: 0.0151, Validation Accuracy: 0.9932\n"
     ]
    },
    {
     "name": "stderr",
     "output_type": "stream",
     "text": [
      "                                                                       \r"
     ]
    },
    {
     "name": "stdout",
     "output_type": "stream",
     "text": [
      "Epoch [30/50], Loss: 0.0066\n"
     ]
    },
    {
     "name": "stderr",
     "output_type": "stream",
     "text": [
      "                                                                       \r"
     ]
    },
    {
     "name": "stdout",
     "output_type": "stream",
     "text": [
      "Validation Loss: 0.0143, Validation Accuracy: 0.9939\n"
     ]
    },
    {
     "name": "stderr",
     "output_type": "stream",
     "text": [
      "                                                                       \r"
     ]
    },
    {
     "name": "stdout",
     "output_type": "stream",
     "text": [
      "Epoch [31/50], Loss: 0.0066\n"
     ]
    },
    {
     "name": "stderr",
     "output_type": "stream",
     "text": [
      "                                                                       \r"
     ]
    },
    {
     "name": "stdout",
     "output_type": "stream",
     "text": [
      "Validation Loss: 0.0157, Validation Accuracy: 0.9935\n"
     ]
    },
    {
     "name": "stderr",
     "output_type": "stream",
     "text": [
      "                                                                       \r"
     ]
    },
    {
     "name": "stdout",
     "output_type": "stream",
     "text": [
      "Epoch [32/50], Loss: 0.0070\n"
     ]
    },
    {
     "name": "stderr",
     "output_type": "stream",
     "text": [
      "                                                                       \r"
     ]
    },
    {
     "name": "stdout",
     "output_type": "stream",
     "text": [
      "Validation Loss: 0.0149, Validation Accuracy: 0.9936\n"
     ]
    },
    {
     "name": "stderr",
     "output_type": "stream",
     "text": [
      "                                                                       \r"
     ]
    },
    {
     "name": "stdout",
     "output_type": "stream",
     "text": [
      "Epoch [33/50], Loss: 0.0064\n"
     ]
    },
    {
     "name": "stderr",
     "output_type": "stream",
     "text": [
      "                                                                       \r"
     ]
    },
    {
     "name": "stdout",
     "output_type": "stream",
     "text": [
      "Validation Loss: 0.0150, Validation Accuracy: 0.9937\n"
     ]
    },
    {
     "name": "stderr",
     "output_type": "stream",
     "text": [
      "                                                                       \r"
     ]
    },
    {
     "name": "stdout",
     "output_type": "stream",
     "text": [
      "Epoch [34/50], Loss: 0.0061\n"
     ]
    },
    {
     "name": "stderr",
     "output_type": "stream",
     "text": [
      "                                                                       \r"
     ]
    },
    {
     "name": "stdout",
     "output_type": "stream",
     "text": [
      "Validation Loss: 0.0154, Validation Accuracy: 0.9935\n"
     ]
    },
    {
     "name": "stderr",
     "output_type": "stream",
     "text": [
      "                                                                       \r"
     ]
    },
    {
     "name": "stdout",
     "output_type": "stream",
     "text": [
      "Epoch [35/50], Loss: 0.0060\n"
     ]
    },
    {
     "name": "stderr",
     "output_type": "stream",
     "text": [
      "                                                                       \r"
     ]
    },
    {
     "name": "stdout",
     "output_type": "stream",
     "text": [
      "Validation Loss: 0.0146, Validation Accuracy: 0.9937\n"
     ]
    },
    {
     "name": "stderr",
     "output_type": "stream",
     "text": [
      "                                                                       \r"
     ]
    },
    {
     "name": "stdout",
     "output_type": "stream",
     "text": [
      "Epoch [36/50], Loss: 0.0062\n"
     ]
    },
    {
     "name": "stderr",
     "output_type": "stream",
     "text": [
      "                                                                       \r"
     ]
    },
    {
     "name": "stdout",
     "output_type": "stream",
     "text": [
      "Validation Loss: 0.0164, Validation Accuracy: 0.9937\n"
     ]
    },
    {
     "name": "stderr",
     "output_type": "stream",
     "text": [
      "                                                                       \r"
     ]
    },
    {
     "name": "stdout",
     "output_type": "stream",
     "text": [
      "Epoch [37/50], Loss: 0.0051\n"
     ]
    },
    {
     "name": "stderr",
     "output_type": "stream",
     "text": [
      "                                                                       \r"
     ]
    },
    {
     "name": "stdout",
     "output_type": "stream",
     "text": [
      "Validation Loss: 0.0169, Validation Accuracy: 0.9939\n"
     ]
    },
    {
     "name": "stderr",
     "output_type": "stream",
     "text": [
      "                                                                       \r"
     ]
    },
    {
     "name": "stdout",
     "output_type": "stream",
     "text": [
      "Epoch [38/50], Loss: 0.0049\n"
     ]
    },
    {
     "name": "stderr",
     "output_type": "stream",
     "text": [
      "                                                                       \r"
     ]
    },
    {
     "name": "stdout",
     "output_type": "stream",
     "text": [
      "Validation Loss: 0.0169, Validation Accuracy: 0.9934\n"
     ]
    },
    {
     "name": "stderr",
     "output_type": "stream",
     "text": [
      "                                                                       \r"
     ]
    },
    {
     "name": "stdout",
     "output_type": "stream",
     "text": [
      "Epoch [39/50], Loss: 0.0048\n"
     ]
    },
    {
     "name": "stderr",
     "output_type": "stream",
     "text": [
      "                                                                       \r"
     ]
    },
    {
     "name": "stdout",
     "output_type": "stream",
     "text": [
      "Validation Loss: 0.0166, Validation Accuracy: 0.9938\n"
     ]
    },
    {
     "name": "stderr",
     "output_type": "stream",
     "text": [
      "                                                                       \r"
     ]
    },
    {
     "name": "stdout",
     "output_type": "stream",
     "text": [
      "Epoch [40/50], Loss: 0.0044\n"
     ]
    },
    {
     "name": "stderr",
     "output_type": "stream",
     "text": [
      "                                                                       \r"
     ]
    },
    {
     "name": "stdout",
     "output_type": "stream",
     "text": [
      "Validation Loss: 0.0156, Validation Accuracy: 0.9939\n"
     ]
    },
    {
     "name": "stderr",
     "output_type": "stream",
     "text": [
      "                                                                       \r"
     ]
    },
    {
     "name": "stdout",
     "output_type": "stream",
     "text": [
      "Epoch [41/50], Loss: 0.0045\n"
     ]
    },
    {
     "name": "stderr",
     "output_type": "stream",
     "text": [
      "                                                                       \r"
     ]
    },
    {
     "name": "stdout",
     "output_type": "stream",
     "text": [
      "Validation Loss: 0.0190, Validation Accuracy: 0.9937\n"
     ]
    },
    {
     "name": "stderr",
     "output_type": "stream",
     "text": [
      "                                                                       \r"
     ]
    },
    {
     "name": "stdout",
     "output_type": "stream",
     "text": [
      "Epoch [42/50], Loss: 0.0060\n"
     ]
    },
    {
     "name": "stderr",
     "output_type": "stream",
     "text": [
      "                                                                       \r"
     ]
    },
    {
     "name": "stdout",
     "output_type": "stream",
     "text": [
      "Validation Loss: 0.0159, Validation Accuracy: 0.9933\n"
     ]
    },
    {
     "name": "stderr",
     "output_type": "stream",
     "text": [
      "                                                                       \r"
     ]
    },
    {
     "name": "stdout",
     "output_type": "stream",
     "text": [
      "Epoch [43/50], Loss: 0.0048\n"
     ]
    },
    {
     "name": "stderr",
     "output_type": "stream",
     "text": [
      "                                                                       \r"
     ]
    },
    {
     "name": "stdout",
     "output_type": "stream",
     "text": [
      "Validation Loss: 0.0167, Validation Accuracy: 0.9939\n"
     ]
    },
    {
     "name": "stderr",
     "output_type": "stream",
     "text": [
      "                                                                       \r"
     ]
    },
    {
     "name": "stdout",
     "output_type": "stream",
     "text": [
      "Epoch [44/50], Loss: 0.0040\n"
     ]
    },
    {
     "name": "stderr",
     "output_type": "stream",
     "text": [
      "                                                                       \r"
     ]
    },
    {
     "name": "stdout",
     "output_type": "stream",
     "text": [
      "Validation Loss: 0.0168, Validation Accuracy: 0.9939\n"
     ]
    },
    {
     "name": "stderr",
     "output_type": "stream",
     "text": [
      "                                                                       \r"
     ]
    },
    {
     "name": "stdout",
     "output_type": "stream",
     "text": [
      "Epoch [45/50], Loss: 0.0052\n"
     ]
    },
    {
     "name": "stderr",
     "output_type": "stream",
     "text": [
      "                                                                       \r"
     ]
    },
    {
     "name": "stdout",
     "output_type": "stream",
     "text": [
      "Validation Loss: 0.0179, Validation Accuracy: 0.9936\n"
     ]
    },
    {
     "name": "stderr",
     "output_type": "stream",
     "text": [
      "                                                                       \r"
     ]
    },
    {
     "name": "stdout",
     "output_type": "stream",
     "text": [
      "Epoch [46/50], Loss: 0.0043\n"
     ]
    },
    {
     "name": "stderr",
     "output_type": "stream",
     "text": [
      "                                                                       \r"
     ]
    },
    {
     "name": "stdout",
     "output_type": "stream",
     "text": [
      "Validation Loss: 0.0172, Validation Accuracy: 0.9938\n"
     ]
    },
    {
     "name": "stderr",
     "output_type": "stream",
     "text": [
      "                                                                       \r"
     ]
    },
    {
     "name": "stdout",
     "output_type": "stream",
     "text": [
      "Epoch [47/50], Loss: 0.0037\n"
     ]
    },
    {
     "name": "stderr",
     "output_type": "stream",
     "text": [
      "                                                                       \r"
     ]
    },
    {
     "name": "stdout",
     "output_type": "stream",
     "text": [
      "Validation Loss: 0.0192, Validation Accuracy: 0.9938\n"
     ]
    },
    {
     "name": "stderr",
     "output_type": "stream",
     "text": [
      "                                                                       \r"
     ]
    },
    {
     "name": "stdout",
     "output_type": "stream",
     "text": [
      "Epoch [48/50], Loss: 0.0034\n"
     ]
    },
    {
     "name": "stderr",
     "output_type": "stream",
     "text": [
      "                                                                       \r"
     ]
    },
    {
     "name": "stdout",
     "output_type": "stream",
     "text": [
      "Validation Loss: 0.0184, Validation Accuracy: 0.9941\n"
     ]
    },
    {
     "name": "stderr",
     "output_type": "stream",
     "text": [
      "                                                                       \r"
     ]
    },
    {
     "name": "stdout",
     "output_type": "stream",
     "text": [
      "Epoch [49/50], Loss: 0.0035\n"
     ]
    },
    {
     "name": "stderr",
     "output_type": "stream",
     "text": [
      "                                                                       \r"
     ]
    },
    {
     "name": "stdout",
     "output_type": "stream",
     "text": [
      "Validation Loss: 0.0194, Validation Accuracy: 0.9939\n"
     ]
    },
    {
     "name": "stderr",
     "output_type": "stream",
     "text": [
      "                                                                       \r"
     ]
    },
    {
     "name": "stdout",
     "output_type": "stream",
     "text": [
      "Epoch [50/50], Loss: 0.0041\n"
     ]
    },
    {
     "name": "stderr",
     "output_type": "stream",
     "text": [
      "                                                                       "
     ]
    },
    {
     "name": "stdout",
     "output_type": "stream",
     "text": [
      "Validation Loss: 0.0173, Validation Accuracy: 0.9939\n"
     ]
    },
    {
     "name": "stderr",
     "output_type": "stream",
     "text": [
      "\r"
     ]
    }
   ],
   "source": [
    "import torch\n",
    "import torch.nn as nn\n",
    "from torch.utils.data import DataLoader\n",
    "from tqdm import tqdm  # Import tqdm for progress bars\n",
    "\n",
    "# Check for available GPUs\n",
    "device = torch.device(\"cuda\" if torch.cuda.is_available() else \"cpu\")\n",
    "print(f\"Using device: {device}\")\n",
    "\n",
    "# Assuming 'model' is already defined, let's wrap it in DataParallel if more than one GPU is available\n",
    "if torch.cuda.device_count() > 1:\n",
    "    print(f\"Using {torch.cuda.device_count()} GPUs!\")\n",
    "    model = nn.DataParallel(model)\n",
    "\n",
    "model.to(device)  # Move model to the appropriate device\n",
    "\n",
    "# Function to calculate accuracy\n",
    "def calculate_accuracy(preds, labels):\n",
    "    preds = (preds > 0.5).float()  # Apply threshold to get binary predictions\n",
    "    correct = (preds == labels).float().sum()  # Count correct pixels\n",
    "    total = torch.numel(preds)  # Total number of pixels\n",
    "    accuracy = correct / total\n",
    "    return accuracy\n",
    "\n",
    "# Training loop with validation loss and accuracy\n",
    "def train_model(model, train_loader, val_loader, criterion, optimizer, num_epochs=20):\n",
    "    for epoch in range(num_epochs):\n",
    "        model.train()  # Set model to training mode\n",
    "        running_loss = 0.0\n",
    "\n",
    "        # Training phase with progress bar\n",
    "        for images, masks in tqdm(train_loader, desc=f'Training Epoch {epoch + 1}/{num_epochs}', leave=False):\n",
    "            images = images.to(device)  # Move images to GPU\n",
    "            masks = masks.to(device)    # Move masks to GPU\n",
    "\n",
    "            # Forward pass\n",
    "            optimizer.zero_grad()  # Clear gradients\n",
    "            outputs = model(images)\n",
    "            loss = criterion(outputs[0], masks)  # U-Net has multiple outputs, use the main one\n",
    "\n",
    "            # Backward pass and optimization\n",
    "            loss.backward()\n",
    "            optimizer.step()\n",
    "\n",
    "            running_loss += loss.item()\n",
    "\n",
    "        print(f\"Epoch [{epoch + 1}/{num_epochs}], Loss: {running_loss / len(train_loader):.4f}\")\n",
    "\n",
    "        # Validation phase\n",
    "        model.eval()  # Set model to evaluation mode\n",
    "        val_loss = 0.0\n",
    "        val_accuracy = 0.0\n",
    "\n",
    "        # Validation phase with progress bar\n",
    "        with torch.no_grad():\n",
    "            for images, masks in tqdm(val_loader, desc=f'Validating Epoch {epoch + 1}/{num_epochs}', leave=False):\n",
    "                images = images.to(device)  # Move images to GPU\n",
    "                masks = masks.to(device)    # Move masks to GPU\n",
    "\n",
    "                outputs = model(images)\n",
    "                loss = criterion(outputs[0], masks)  # Validation loss\n",
    "                val_loss += loss.item()\n",
    "\n",
    "                # Calculate validation accuracy\n",
    "                accuracy = calculate_accuracy(outputs[0], masks)\n",
    "                val_accuracy += accuracy.item()\n",
    "\n",
    "        avg_val_loss = val_loss / len(val_loader)\n",
    "        avg_val_accuracy = val_accuracy / len(val_loader)\n",
    "\n",
    "        print(f\"Validation Loss: {avg_val_loss:.4f}, Validation Accuracy: {avg_val_accuracy:.4f}\")\n",
    "\n",
    "# Assuming the dataset class is defined as TumorSegmentationDataset\n",
    "# Load your datasets with num_workers set to 2\n",
    "train_dataset = TumorSegmentationDataset('/kaggle/working/bts/train/images', '/kaggle/working/bts/train/masks', image_transform=image_transform, mask_transform=mask_transform)\n",
    "val_dataset = TumorSegmentationDataset('/kaggle/working/bts/val/images', '/kaggle/working/bts/val/masks', image_transform=image_transform, mask_transform=mask_transform)\n",
    "test_dataset = TumorSegmentationDataset('/kaggle/working/bts/test/images', '/kaggle/working/bts/test/masks', image_transform=image_transform, mask_transform=mask_transform)\n",
    "\n",
    "# Create DataLoader objects\n",
    "train_loader = DataLoader(train_dataset, batch_size=8, shuffle=True, num_workers=2)\n",
    "val_loader = DataLoader(val_dataset, batch_size=8, shuffle=False, num_workers=2)\n",
    "test_loader = DataLoader(test_dataset, batch_size=8, shuffle=False, num_workers=2)\n",
    "\n",
    "# Train the model\n",
    "train_model(model, train_loader, val_loader, criterion, optimizer, num_epochs=50)\n"
   ]
  },
  {
   "cell_type": "code",
   "execution_count": null,
   "metadata": {
    "trusted": true
   },
   "outputs": [],
   "source": []
  },
  {
   "cell_type": "code",
   "execution_count": 12,
   "metadata": {
    "execution": {
     "iopub.execute_input": "2024-11-21T00:59:05.820639Z",
     "iopub.status.busy": "2024-11-21T00:59:05.820332Z",
     "iopub.status.idle": "2024-11-21T00:59:07.889587Z",
     "shell.execute_reply": "2024-11-21T00:59:07.888832Z",
     "shell.execute_reply.started": "2024-11-21T00:59:05.820606Z"
    },
    "id": "cDnVKRbeE-W0",
    "trusted": true
   },
   "outputs": [
    {
     "name": "stdout",
     "output_type": "stream",
     "text": [
      "Accuracy: 0.9966\n"
     ]
    },
    {
     "data": {
      "image/png": "[encoded data removed]",
      "text/plain": [
       "<Figure size 1500x500 with 3 Axes>"
      ]
     },
     "metadata": {},
     "output_type": "display_data"
    }
   ],
   "source": [
    "import random\n",
    "\n",
    "import torch\n",
    "\n",
    "import matplotlib.pyplot as plt\n",
    "\n",
    "import numpy as np\n",
    "\n",
    "from torchvision.transforms import ToPILImage\n",
    "\n",
    "import cv2  # To overlay the mask on the original image\n",
    "\n",
    "\n",
    "\n",
    "# Helper function to display images\n",
    "\n",
    "def show_image_mask_overlay(image, mask):\n",
    "\n",
    "    fig, axs = plt.subplots(1, 3, figsize=(15, 5))\n",
    "\n",
    "\n",
    "\n",
    "    # Convert tensor image to numpy (transpose to change from CxHxW to HxWxC)\n",
    "\n",
    "    img_np = image.cpu().numpy().transpose(1, 2, 0)\n",
    "\n",
    "    mask_np = mask.cpu().numpy().squeeze()  # Remove extra dimensions\n",
    "\n",
    "\n",
    "\n",
    "    # Display original image\n",
    "\n",
    "    axs[0].imshow(img_np)\n",
    "\n",
    "    axs[0].set_title(\"Original Image\")\n",
    "\n",
    "    axs[0].axis('off')\n",
    "\n",
    "\n",
    "\n",
    "    # Display predicted mask\n",
    "\n",
    "    axs[1].imshow(mask_np, cmap='gray')\n",
    "\n",
    "    axs[1].set_title(\"Predicted Mask\")\n",
    "\n",
    "    axs[1].axis('off')\n",
    "\n",
    "\n",
    "\n",
    "    # Overlay mask on image (use OpenCV to overlay mask with color)\n",
    "\n",
    "    overlay = img_np.copy()\n",
    "\n",
    "    overlay[mask_np > 0.5] = [0, 1, 0]  # Set tumor region to red\n",
    "\n",
    "\n",
    "\n",
    "    axs[2].imshow(overlay)\n",
    "\n",
    "    axs[2].set_title(\"Image with Mask Overlay\")\n",
    "\n",
    "    axs[2].axis('off')\n",
    "\n",
    "\n",
    "\n",
    "    plt.show()\n",
    "\n",
    "\n",
    "\n",
    "# Function to calculate accuracy\n",
    "\n",
    "def calculate_accuracy(preds, labels):\n",
    "\n",
    "    preds = (preds > 0.5).float()  # Threshold to get binary predictions (0 or 1)\n",
    "\n",
    "\n",
    "\n",
    "    # Flatten the arrays to compare each pixel\n",
    "\n",
    "    preds_flat = preds.cpu().numpy().flatten()\n",
    "\n",
    "    labels_flat = labels.cpu().numpy().flatten()\n",
    "\n",
    "\n",
    "\n",
    "    accuracy = np.mean(preds_flat == labels_flat)  # Calculate pixel-wise accuracy\n",
    "\n",
    "    return accuracy\n",
    "\n",
    "\n",
    "\n",
    "# Function to test on a random image from test set\n",
    "\n",
    "def test_random_image(model, test_loader):\n",
    "\n",
    "    model.eval()  # Set model to evaluation mode\n",
    "\n",
    "\n",
    "\n",
    "    # Select a random batch from the test loader\n",
    "\n",
    "    random_batch = random.randint(0, len(test_loader) - 1)\n",
    "\n",
    "\n",
    "\n",
    "    for i, (images, masks) in enumerate(test_loader):\n",
    "\n",
    "        if i == random_batch:\n",
    "\n",
    "            random_index = random.randint(0, images.size(0) - 1)  # Select random image from batch\n",
    "\n",
    "\n",
    "\n",
    "            image = images[random_index].unsqueeze(0).cuda()  # Add batch dimension and move to GPU\n",
    "\n",
    "            mask = masks[random_index].unsqueeze(0).cuda()    # Ground truth mask for comparison\n",
    "\n",
    "\n",
    "\n",
    "            # Get the model's prediction\n",
    "\n",
    "            with torch.no_grad():\n",
    "\n",
    "                output = model(image)\n",
    "\n",
    "                predicted_mask = output[0]  # Take the main output\n",
    "\n",
    "                predicted_mask = (predicted_mask > 0.5).float()  # Threshold for binary mask\n",
    "\n",
    "\n",
    "\n",
    "            # Calculate accuracy for the selected image\n",
    "\n",
    "            accuracy = calculate_accuracy(predicted_mask, mask)\n",
    "\n",
    "            print(f\"Accuracy: {accuracy:.4f}\")\n",
    "\n",
    "\n",
    "\n",
    "            # Remove the batch dimension for visualization\n",
    "\n",
    "            image = image.squeeze(0)\n",
    "\n",
    "            predicted_mask = predicted_mask.squeeze(0)\n",
    "\n",
    "\n",
    "\n",
    "            # Display the original image, predicted mask, and image with overlay\n",
    "\n",
    "            show_image_mask_overlay(image, predicted_mask)\n",
    "\n",
    "            break\n",
    "\n",
    "\n",
    "\n",
    "# Call the function to test and display on a random image\n",
    "\n",
    "test_random_image(model, test_loader)"
   ]
  },
  {
   "cell_type": "code",
   "execution_count": 13,
   "metadata": {
    "execution": {
     "iopub.execute_input": "2024-11-21T00:59:07.891769Z",
     "iopub.status.busy": "2024-11-21T00:59:07.891366Z",
     "iopub.status.idle": "2024-11-21T01:00:14.869963Z",
     "shell.execute_reply": "2024-11-21T01:00:14.868947Z",
     "shell.execute_reply.started": "2024-11-21T00:59:07.891730Z"
    },
    "id": "ee-RNqnKPVEy",
    "outputId": "7973f6e2-bdd1-4da0-9009-253f9e53382a",
    "trusted": true
   },
   "outputs": [
    {
     "name": "stderr",
     "output_type": "stream",
     "text": [
      "/opt/conda/lib/python3.10/site-packages/torch/nn/parallel/parallel_apply.py:79: FutureWarning: `torch.cuda.amp.autocast(args...)` is deprecated. Please use `torch.amp.autocast('cuda', args...)` instead.\n",
      "  with torch.cuda.device(device), torch.cuda.stream(stream), autocast(enabled=autocast_enabled):\n",
      "/kaggle/working/U-2-Net/model/u2net.py:23: UserWarning: `nn.functional.upsample` is deprecated. Use `nn.functional.interpolate` instead.\n",
      "  src = F.upsample(src,size=tar.shape[2:],mode='bilinear')\n",
      "/opt/conda/lib/python3.10/site-packages/torch/nn/parallel/parallel_apply.py:79: FutureWarning: `torch.cuda.amp.autocast(args...)` is deprecated. Please use `torch.amp.autocast('cuda', args...)` instead.\n",
      "  with torch.cuda.device(device), torch.cuda.stream(stream), autocast(enabled=autocast_enabled):\n",
      "/kaggle/working/U-2-Net/model/u2net.py:23: UserWarning: `nn.functional.upsample` is deprecated. Use `nn.functional.interpolate` instead.\n",
      "  src = F.upsample(src,size=tar.shape[2:],mode='bilinear')\n",
      "/opt/conda/lib/python3.10/site-packages/torch/nn/parallel/parallel_apply.py:79: FutureWarning: `torch.cuda.amp.autocast(args...)` is deprecated. Please use `torch.amp.autocast('cuda', args...)` instead.\n",
      "  with torch.cuda.device(device), torch.cuda.stream(stream), autocast(enabled=autocast_enabled):\n",
      "/kaggle/working/U-2-Net/model/u2net.py:23: UserWarning: `nn.functional.upsample` is deprecated. Use `nn.functional.interpolate` instead.\n",
      "  src = F.upsample(src,size=tar.shape[2:],mode='bilinear')\n",
      "/opt/conda/lib/python3.10/site-packages/torch/nn/parallel/parallel_apply.py:79: FutureWarning: `torch.cuda.amp.autocast(args...)` is deprecated. Please use `torch.amp.autocast('cuda', args...)` instead.\n",
      "  with torch.cuda.device(device), torch.cuda.stream(stream), autocast(enabled=autocast_enabled):\n",
      "/kaggle/working/U-2-Net/model/u2net.py:23: UserWarning: `nn.functional.upsample` is deprecated. Use `nn.functional.interpolate` instead.\n",
      "  src = F.upsample(src,size=tar.shape[2:],mode='bilinear')\n",
      "/opt/conda/lib/python3.10/site-packages/torch/nn/parallel/parallel_apply.py:79: FutureWarning: `torch.cuda.amp.autocast(args...)` is deprecated. Please use `torch.amp.autocast('cuda', args...)` instead.\n",
      "  with torch.cuda.device(device), torch.cuda.stream(stream), autocast(enabled=autocast_enabled):\n",
      "/kaggle/working/U-2-Net/model/u2net.py:23: UserWarning: `nn.functional.upsample` is deprecated. Use `nn.functional.interpolate` instead.\n",
      "  src = F.upsample(src,size=tar.shape[2:],mode='bilinear')\n",
      "/opt/conda/lib/python3.10/site-packages/torch/nn/parallel/parallel_apply.py:79: FutureWarning: `torch.cuda.amp.autocast(args...)` is deprecated. Please use `torch.amp.autocast('cuda', args...)` instead.\n",
      "  with torch.cuda.device(device), torch.cuda.stream(stream), autocast(enabled=autocast_enabled):\n",
      "/kaggle/working/U-2-Net/model/u2net.py:23: UserWarning: `nn.functional.upsample` is deprecated. Use `nn.functional.interpolate` instead.\n",
      "  src = F.upsample(src,size=tar.shape[2:],mode='bilinear')\n",
      "/opt/conda/lib/python3.10/site-packages/torch/nn/parallel/parallel_apply.py:79: FutureWarning: `torch.cuda.amp.autocast(args...)` is deprecated. Please use `torch.amp.autocast('cuda', args...)` instead.\n",
      "  with torch.cuda.device(device), torch.cuda.stream(stream), autocast(enabled=autocast_enabled):\n",
      "/kaggle/working/U-2-Net/model/u2net.py:23: UserWarning: `nn.functional.upsample` is deprecated. Use `nn.functional.interpolate` instead.\n",
      "  src = F.upsample(src,size=tar.shape[2:],mode='bilinear')\n",
      "/opt/conda/lib/python3.10/site-packages/torch/nn/parallel/parallel_apply.py:79: FutureWarning: `torch.cuda.amp.autocast(args...)` is deprecated. Please use `torch.amp.autocast('cuda', args...)` instead.\n",
      "  with torch.cuda.device(device), torch.cuda.stream(stream), autocast(enabled=autocast_enabled):\n",
      "/kaggle/working/U-2-Net/model/u2net.py:23: UserWarning: `nn.functional.upsample` is deprecated. Use `nn.functional.interpolate` instead.\n",
      "  src = F.upsample(src,size=tar.shape[2:],mode='bilinear')\n",
      "/opt/conda/lib/python3.10/site-packages/torch/nn/parallel/parallel_apply.py:79: FutureWarning: `torch.cuda.amp.autocast(args...)` is deprecated. Please use `torch.amp.autocast('cuda', args...)` instead.\n",
      "  with torch.cuda.device(device), torch.cuda.stream(stream), autocast(enabled=autocast_enabled):\n",
      "/kaggle/working/U-2-Net/model/u2net.py:23: UserWarning: `nn.functional.upsample` is deprecated. Use `nn.functional.interpolate` instead.\n",
      "  src = F.upsample(src,size=tar.shape[2:],mode='bilinear')\n",
      "/opt/conda/lib/python3.10/site-packages/torch/nn/parallel/parallel_apply.py:79: FutureWarning: `torch.cuda.amp.autocast(args...)` is deprecated. Please use `torch.amp.autocast('cuda', args...)` instead.\n",
      "  with torch.cuda.device(device), torch.cuda.stream(stream), autocast(enabled=autocast_enabled):\n",
      "/kaggle/working/U-2-Net/model/u2net.py:23: UserWarning: `nn.functional.upsample` is deprecated. Use `nn.functional.interpolate` instead.\n",
      "  src = F.upsample(src,size=tar.shape[2:],mode='bilinear')\n",
      "/opt/conda/lib/python3.10/site-packages/torch/nn/parallel/parallel_apply.py:79: FutureWarning: `torch.cuda.amp.autocast(args...)` is deprecated. Please use `torch.amp.autocast('cuda', args...)` instead.\n",
      "  with torch.cuda.device(device), torch.cuda.stream(stream), autocast(enabled=autocast_enabled):\n",
      "/kaggle/working/U-2-Net/model/u2net.py:23: UserWarning: `nn.functional.upsample` is deprecated. Use `nn.functional.interpolate` instead.\n",
      "  src = F.upsample(src,size=tar.shape[2:],mode='bilinear')\n",
      "/opt/conda/lib/python3.10/site-packages/torch/nn/parallel/parallel_apply.py:79: FutureWarning: `torch.cuda.amp.autocast(args...)` is deprecated. Please use `torch.amp.autocast('cuda', args...)` instead.\n",
      "  with torch.cuda.device(device), torch.cuda.stream(stream), autocast(enabled=autocast_enabled):\n",
      "/kaggle/working/U-2-Net/model/u2net.py:23: UserWarning: `nn.functional.upsample` is deprecated. Use `nn.functional.interpolate` instead.\n",
      "  src = F.upsample(src,size=tar.shape[2:],mode='bilinear')\n",
      "/opt/conda/lib/python3.10/site-packages/torch/nn/parallel/parallel_apply.py:79: FutureWarning: `torch.cuda.amp.autocast(args...)` is deprecated. Please use `torch.amp.autocast('cuda', args...)` instead.\n",
      "  with torch.cuda.device(device), torch.cuda.stream(stream), autocast(enabled=autocast_enabled):\n",
      "/kaggle/working/U-2-Net/model/u2net.py:23: UserWarning: `nn.functional.upsample` is deprecated. Use `nn.functional.interpolate` instead.\n",
      "  src = F.upsample(src,size=tar.shape[2:],mode='bilinear')\n",
      "/opt/conda/lib/python3.10/site-packages/torch/nn/parallel/parallel_apply.py:79: FutureWarning: `torch.cuda.amp.autocast(args...)` is deprecated. Please use `torch.amp.autocast('cuda', args...)` instead.\n",
      "  with torch.cuda.device(device), torch.cuda.stream(stream), autocast(enabled=autocast_enabled):\n",
      "/kaggle/working/U-2-Net/model/u2net.py:23: UserWarning: `nn.functional.upsample` is deprecated. Use `nn.functional.interpolate` instead.\n",
      "  src = F.upsample(src,size=tar.shape[2:],mode='bilinear')\n",
      "/opt/conda/lib/python3.10/site-packages/torch/nn/parallel/parallel_apply.py:79: FutureWarning: `torch.cuda.amp.autocast(args...)` is deprecated. Please use `torch.amp.autocast('cuda', args...)` instead.\n",
      "  with torch.cuda.device(device), torch.cuda.stream(stream), autocast(enabled=autocast_enabled):\n",
      "/kaggle/working/U-2-Net/model/u2net.py:23: UserWarning: `nn.functional.upsample` is deprecated. Use `nn.functional.interpolate` instead.\n",
      "  src = F.upsample(src,size=tar.shape[2:],mode='bilinear')\n",
      "/opt/conda/lib/python3.10/site-packages/torch/nn/parallel/parallel_apply.py:79: FutureWarning: `torch.cuda.amp.autocast(args...)` is deprecated. Please use `torch.amp.autocast('cuda', args...)` instead.\n",
      "  with torch.cuda.device(device), torch.cuda.stream(stream), autocast(enabled=autocast_enabled):\n",
      "/kaggle/working/U-2-Net/model/u2net.py:23: UserWarning: `nn.functional.upsample` is deprecated. Use `nn.functional.interpolate` instead.\n",
      "  src = F.upsample(src,size=tar.shape[2:],mode='bilinear')\n",
      "/opt/conda/lib/python3.10/site-packages/torch/nn/parallel/parallel_apply.py:79: FutureWarning: `torch.cuda.amp.autocast(args...)` is deprecated. Please use `torch.amp.autocast('cuda', args...)` instead.\n",
      "  with torch.cuda.device(device), torch.cuda.stream(stream), autocast(enabled=autocast_enabled):\n",
      "/kaggle/working/U-2-Net/model/u2net.py:23: UserWarning: `nn.functional.upsample` is deprecated. Use `nn.functional.interpolate` instead.\n",
      "  src = F.upsample(src,size=tar.shape[2:],mode='bilinear')\n",
      "/opt/conda/lib/python3.10/site-packages/torch/nn/parallel/parallel_apply.py:79: FutureWarning: `torch.cuda.amp.autocast(args...)` is deprecated. Please use `torch.amp.autocast('cuda', args...)` instead.\n",
      "  with torch.cuda.device(device), torch.cuda.stream(stream), autocast(enabled=autocast_enabled):\n",
      "/kaggle/working/U-2-Net/model/u2net.py:23: UserWarning: `nn.functional.upsample` is deprecated. Use `nn.functional.interpolate` instead.\n",
      "  src = F.upsample(src,size=tar.shape[2:],mode='bilinear')\n",
      "/opt/conda/lib/python3.10/site-packages/torch/nn/parallel/parallel_apply.py:79: FutureWarning: `torch.cuda.amp.autocast(args...)` is deprecated. Please use `torch.amp.autocast('cuda', args...)` instead.\n",
      "  with torch.cuda.device(device), torch.cuda.stream(stream), autocast(enabled=autocast_enabled):\n",
      "/kaggle/working/U-2-Net/model/u2net.py:23: UserWarning: `nn.functional.upsample` is deprecated. Use `nn.functional.interpolate` instead.\n",
      "  src = F.upsample(src,size=tar.shape[2:],mode='bilinear')\n",
      "/opt/conda/lib/python3.10/site-packages/torch/nn/parallel/parallel_apply.py:79: FutureWarning: `torch.cuda.amp.autocast(args...)` is deprecated. Please use `torch.amp.autocast('cuda', args...)` instead.\n",
      "  with torch.cuda.device(device), torch.cuda.stream(stream), autocast(enabled=autocast_enabled):\n",
      "/kaggle/working/U-2-Net/model/u2net.py:23: UserWarning: `nn.functional.upsample` is deprecated. Use `nn.functional.interpolate` instead.\n",
      "  src = F.upsample(src,size=tar.shape[2:],mode='bilinear')\n",
      "/opt/conda/lib/python3.10/site-packages/torch/nn/parallel/parallel_apply.py:79: FutureWarning: `torch.cuda.amp.autocast(args...)` is deprecated. Please use `torch.amp.autocast('cuda', args...)` instead.\n",
      "  with torch.cuda.device(device), torch.cuda.stream(stream), autocast(enabled=autocast_enabled):\n",
      "/kaggle/working/U-2-Net/model/u2net.py:23: UserWarning: `nn.functional.upsample` is deprecated. Use `nn.functional.interpolate` instead.\n",
      "  src = F.upsample(src,size=tar.shape[2:],mode='bilinear')\n",
      "/opt/conda/lib/python3.10/site-packages/torch/nn/parallel/parallel_apply.py:79: FutureWarning: `torch.cuda.amp.autocast(args...)` is deprecated. Please use `torch.amp.autocast('cuda', args...)` instead.\n",
      "  with torch.cuda.device(device), torch.cuda.stream(stream), autocast(enabled=autocast_enabled):\n",
      "/kaggle/working/U-2-Net/model/u2net.py:23: UserWarning: `nn.functional.upsample` is deprecated. Use `nn.functional.interpolate` instead.\n",
      "  src = F.upsample(src,size=tar.shape[2:],mode='bilinear')\n",
      "/opt/conda/lib/python3.10/site-packages/torch/nn/parallel/parallel_apply.py:79: FutureWarning: `torch.cuda.amp.autocast(args...)` is deprecated. Please use `torch.amp.autocast('cuda', args...)` instead.\n",
      "  with torch.cuda.device(device), torch.cuda.stream(stream), autocast(enabled=autocast_enabled):\n",
      "/kaggle/working/U-2-Net/model/u2net.py:23: UserWarning: `nn.functional.upsample` is deprecated. Use `nn.functional.interpolate` instead.\n",
      "  src = F.upsample(src,size=tar.shape[2:],mode='bilinear')\n",
      "/opt/conda/lib/python3.10/site-packages/torch/nn/parallel/parallel_apply.py:79: FutureWarning: `torch.cuda.amp.autocast(args...)` is deprecated. Please use `torch.amp.autocast('cuda', args...)` instead.\n",
      "  with torch.cuda.device(device), torch.cuda.stream(stream), autocast(enabled=autocast_enabled):\n",
      "/kaggle/working/U-2-Net/model/u2net.py:23: UserWarning: `nn.functional.upsample` is deprecated. Use `nn.functional.interpolate` instead.\n",
      "  src = F.upsample(src,size=tar.shape[2:],mode='bilinear')\n",
      "/opt/conda/lib/python3.10/site-packages/torch/nn/parallel/parallel_apply.py:79: FutureWarning: `torch.cuda.amp.autocast(args...)` is deprecated. Please use `torch.amp.autocast('cuda', args...)` instead.\n",
      "  with torch.cuda.device(device), torch.cuda.stream(stream), autocast(enabled=autocast_enabled):\n",
      "/kaggle/working/U-2-Net/model/u2net.py:23: UserWarning: `nn.functional.upsample` is deprecated. Use `nn.functional.interpolate` instead.\n",
      "  src = F.upsample(src,size=tar.shape[2:],mode='bilinear')\n",
      "/opt/conda/lib/python3.10/site-packages/torch/nn/parallel/parallel_apply.py:79: FutureWarning: `torch.cuda.amp.autocast(args...)` is deprecated. Please use `torch.amp.autocast('cuda', args...)` instead.\n",
      "  with torch.cuda.device(device), torch.cuda.stream(stream), autocast(enabled=autocast_enabled):\n",
      "/kaggle/working/U-2-Net/model/u2net.py:23: UserWarning: `nn.functional.upsample` is deprecated. Use `nn.functional.interpolate` instead.\n",
      "  src = F.upsample(src,size=tar.shape[2:],mode='bilinear')\n",
      "/opt/conda/lib/python3.10/site-packages/torch/nn/parallel/parallel_apply.py:79: FutureWarning: `torch.cuda.amp.autocast(args...)` is deprecated. Please use `torch.amp.autocast('cuda', args...)` instead.\n",
      "  with torch.cuda.device(device), torch.cuda.stream(stream), autocast(enabled=autocast_enabled):\n",
      "/kaggle/working/U-2-Net/model/u2net.py:23: UserWarning: `nn.functional.upsample` is deprecated. Use `nn.functional.interpolate` instead.\n",
      "  src = F.upsample(src,size=tar.shape[2:],mode='bilinear')\n",
      "/opt/conda/lib/python3.10/site-packages/torch/nn/parallel/parallel_apply.py:79: FutureWarning: `torch.cuda.amp.autocast(args...)` is deprecated. Please use `torch.amp.autocast('cuda', args...)` instead.\n",
      "  with torch.cuda.device(device), torch.cuda.stream(stream), autocast(enabled=autocast_enabled):\n",
      "/kaggle/working/U-2-Net/model/u2net.py:23: UserWarning: `nn.functional.upsample` is deprecated. Use `nn.functional.interpolate` instead.\n",
      "  src = F.upsample(src,size=tar.shape[2:],mode='bilinear')\n",
      "/opt/conda/lib/python3.10/site-packages/torch/nn/parallel/parallel_apply.py:79: FutureWarning: `torch.cuda.amp.autocast(args...)` is deprecated. Please use `torch.amp.autocast('cuda', args...)` instead.\n",
      "  with torch.cuda.device(device), torch.cuda.stream(stream), autocast(enabled=autocast_enabled):\n",
      "/kaggle/working/U-2-Net/model/u2net.py:23: UserWarning: `nn.functional.upsample` is deprecated. Use `nn.functional.interpolate` instead.\n",
      "  src = F.upsample(src,size=tar.shape[2:],mode='bilinear')\n",
      "/opt/conda/lib/python3.10/site-packages/torch/nn/parallel/parallel_apply.py:79: FutureWarning: `torch.cuda.amp.autocast(args...)` is deprecated. Please use `torch.amp.autocast('cuda', args...)` instead.\n",
      "  with torch.cuda.device(device), torch.cuda.stream(stream), autocast(enabled=autocast_enabled):\n",
      "/kaggle/working/U-2-Net/model/u2net.py:23: UserWarning: `nn.functional.upsample` is deprecated. Use `nn.functional.interpolate` instead.\n",
      "  src = F.upsample(src,size=tar.shape[2:],mode='bilinear')\n",
      "/opt/conda/lib/python3.10/site-packages/torch/nn/parallel/parallel_apply.py:79: FutureWarning: `torch.cuda.amp.autocast(args...)` is deprecated. Please use `torch.amp.autocast('cuda', args...)` instead.\n",
      "  with torch.cuda.device(device), torch.cuda.stream(stream), autocast(enabled=autocast_enabled):\n",
      "/kaggle/working/U-2-Net/model/u2net.py:23: UserWarning: `nn.functional.upsample` is deprecated. Use `nn.functional.interpolate` instead.\n",
      "  src = F.upsample(src,size=tar.shape[2:],mode='bilinear')\n",
      "/opt/conda/lib/python3.10/site-packages/torch/nn/parallel/parallel_apply.py:79: FutureWarning: `torch.cuda.amp.autocast(args...)` is deprecated. Please use `torch.amp.autocast('cuda', args...)` instead.\n",
      "  with torch.cuda.device(device), torch.cuda.stream(stream), autocast(enabled=autocast_enabled):\n",
      "/kaggle/working/U-2-Net/model/u2net.py:23: UserWarning: `nn.functional.upsample` is deprecated. Use `nn.functional.interpolate` instead.\n",
      "  src = F.upsample(src,size=tar.shape[2:],mode='bilinear')\n",
      "/opt/conda/lib/python3.10/site-packages/torch/nn/parallel/parallel_apply.py:79: FutureWarning: `torch.cuda.amp.autocast(args...)` is deprecated. Please use `torch.amp.autocast('cuda', args...)` instead.\n",
      "  with torch.cuda.device(device), torch.cuda.stream(stream), autocast(enabled=autocast_enabled):\n",
      "/kaggle/working/U-2-Net/model/u2net.py:23: UserWarning: `nn.functional.upsample` is deprecated. Use `nn.functional.interpolate` instead.\n",
      "  src = F.upsample(src,size=tar.shape[2:],mode='bilinear')\n",
      "/opt/conda/lib/python3.10/site-packages/torch/nn/parallel/parallel_apply.py:79: FutureWarning: `torch.cuda.amp.autocast(args...)` is deprecated. Please use `torch.amp.autocast('cuda', args...)` instead.\n",
      "  with torch.cuda.device(device), torch.cuda.stream(stream), autocast(enabled=autocast_enabled):\n",
      "/kaggle/working/U-2-Net/model/u2net.py:23: UserWarning: `nn.functional.upsample` is deprecated. Use `nn.functional.interpolate` instead.\n",
      "  src = F.upsample(src,size=tar.shape[2:],mode='bilinear')\n",
      "/opt/conda/lib/python3.10/site-packages/torch/nn/parallel/parallel_apply.py:79: FutureWarning: `torch.cuda.amp.autocast(args...)` is deprecated. Please use `torch.amp.autocast('cuda', args...)` instead.\n",
      "  with torch.cuda.device(device), torch.cuda.stream(stream), autocast(enabled=autocast_enabled):\n",
      "/kaggle/working/U-2-Net/model/u2net.py:23: UserWarning: `nn.functional.upsample` is deprecated. Use `nn.functional.interpolate` instead.\n",
      "  src = F.upsample(src,size=tar.shape[2:],mode='bilinear')\n",
      "/opt/conda/lib/python3.10/site-packages/torch/nn/parallel/parallel_apply.py:79: FutureWarning: `torch.cuda.amp.autocast(args...)` is deprecated. Please use `torch.amp.autocast('cuda', args...)` instead.\n",
      "  with torch.cuda.device(device), torch.cuda.stream(stream), autocast(enabled=autocast_enabled):\n",
      "/kaggle/working/U-2-Net/model/u2net.py:23: UserWarning: `nn.functional.upsample` is deprecated. Use `nn.functional.interpolate` instead.\n",
      "  src = F.upsample(src,size=tar.shape[2:],mode='bilinear')\n",
      "/opt/conda/lib/python3.10/site-packages/torch/nn/parallel/parallel_apply.py:79: FutureWarning: `torch.cuda.amp.autocast(args...)` is deprecated. Please use `torch.amp.autocast('cuda', args...)` instead.\n",
      "  with torch.cuda.device(device), torch.cuda.stream(stream), autocast(enabled=autocast_enabled):\n",
      "/kaggle/working/U-2-Net/model/u2net.py:23: UserWarning: `nn.functional.upsample` is deprecated. Use `nn.functional.interpolate` instead.\n",
      "  src = F.upsample(src,size=tar.shape[2:],mode='bilinear')\n",
      "/opt/conda/lib/python3.10/site-packages/torch/nn/parallel/parallel_apply.py:79: FutureWarning: `torch.cuda.amp.autocast(args...)` is deprecated. Please use `torch.amp.autocast('cuda', args...)` instead.\n",
      "  with torch.cuda.device(device), torch.cuda.stream(stream), autocast(enabled=autocast_enabled):\n",
      "/kaggle/working/U-2-Net/model/u2net.py:23: UserWarning: `nn.functional.upsample` is deprecated. Use `nn.functional.interpolate` instead.\n",
      "  src = F.upsample(src,size=tar.shape[2:],mode='bilinear')\n"
     ]
    },
    {
     "name": "stdout",
     "output_type": "stream",
     "text": [
      "Test Accuracy: 0.9947\n",
      "Test Precision: 0.8366\n",
      "Test Recall: 0.8447\n",
      "Test F1 Score: 0.8385\n"
     ]
    }
   ],
   "source": [
    "import torch\n",
    "\n",
    "import numpy as np\n",
    "\n",
    "from sklearn.metrics import accuracy_score, precision_score, recall_score, f1_score\n",
    "\n",
    "\n",
    "\n",
    "# Function to calculate metrics\n",
    "\n",
    "def calculate_metrics(preds, labels):\n",
    "\n",
    "    # Ensure predictions are binary (0 or 1)\n",
    "\n",
    "    preds_binary = (preds > 0.5).float()  # Convert to binary predictions\n",
    "\n",
    "\n",
    "\n",
    "    # Flatten the arrays to calculate metrics for the entire image\n",
    "\n",
    "    preds_flat = preds_binary.cpu().numpy().flatten()\n",
    "\n",
    "    labels_flat = labels.cpu().numpy().flatten()\n",
    "\n",
    "\n",
    "\n",
    "    # Convert labels to integers (0 or 1) if they are not already\n",
    "\n",
    "    labels_flat = labels_flat.astype(int)\n",
    "\n",
    "\n",
    "\n",
    "    # Calculate metrics\n",
    "\n",
    "    accuracy = accuracy_score(labels_flat, preds_flat)\n",
    "\n",
    "    precision = precision_score(labels_flat, preds_flat)\n",
    "\n",
    "    recall = recall_score(labels_flat, preds_flat)\n",
    "\n",
    "    f1 = f1_score(labels_flat, preds_flat)\n",
    "\n",
    "\n",
    "\n",
    "    return accuracy, precision, recall, f1\n",
    "\n",
    "\n",
    "\n",
    "# Function to evaluate the model on the entire test set\n",
    "\n",
    "def evaluate_model(model, test_loader):\n",
    "\n",
    "    model.eval()  # Set model to evaluation mode\n",
    "\n",
    "    total_accuracy = 0\n",
    "\n",
    "    total_precision = 0\n",
    "\n",
    "    total_recall = 0\n",
    "\n",
    "    total_f1 = 0\n",
    "\n",
    "    total_images = 0\n",
    "\n",
    "\n",
    "\n",
    "    with torch.no_grad():  # No need to calculate gradients\n",
    "\n",
    "        for images, masks in test_loader:\n",
    "\n",
    "            images = images.cuda()\n",
    "\n",
    "            masks = masks.cuda()\n",
    "\n",
    "\n",
    "\n",
    "            # Forward pass to get model's predictions\n",
    "\n",
    "            outputs = model(images)\n",
    "\n",
    "            preds = outputs[0]  # Use the main output of U^2-Net\n",
    "\n",
    "\n",
    "\n",
    "            # Calculate metrics for this batch\n",
    "\n",
    "            accuracy, precision, recall, f1 = calculate_metrics(preds, masks)\n",
    "\n",
    "            total_accuracy += accuracy * images.size(0)  # Weight by batch size\n",
    "\n",
    "            total_precision += precision * images.size(0)\n",
    "\n",
    "            total_recall += recall * images.size(0)\n",
    "\n",
    "            total_f1 += f1 * images.size(0)\n",
    "\n",
    "            total_images += images.size(0)  # Update total images count\n",
    "\n",
    "\n",
    "\n",
    "    # Average metrics across all test batches\n",
    "\n",
    "    avg_accuracy = total_accuracy / total_images\n",
    "\n",
    "    avg_precision = total_precision / total_images\n",
    "\n",
    "    avg_recall = total_recall / total_images\n",
    "\n",
    "    avg_f1 = total_f1 / total_images\n",
    "\n",
    "\n",
    "\n",
    "    print(f\"Test Accuracy: {avg_accuracy:.4f}\")\n",
    "\n",
    "    print(f\"Test Precision: {avg_precision:.4f}\")\n",
    "\n",
    "    print(f\"Test Recall: {avg_recall:.4f}\")\n",
    "\n",
    "    print(f\"Test F1 Score: {avg_f1:.4f}\")\n",
    "\n",
    "\n",
    "\n",
    "# Call the function to evaluate the model on the test set\n",
    "\n",
    "evaluate_model(model, test_loader)"
   ]
  },
  {
   "cell_type": "code",
   "execution_count": 14,
   "metadata": {
    "execution": {
     "iopub.execute_input": "2024-11-21T01:00:14.871616Z",
     "iopub.status.busy": "2024-11-21T01:00:14.871269Z",
     "iopub.status.idle": "2024-11-21T01:00:24.066750Z",
     "shell.execute_reply": "2024-11-21T01:00:24.065732Z",
     "shell.execute_reply.started": "2024-11-21T01:00:14.871587Z"
    },
    "id": "GKe6l5p0RB87",
    "outputId": "b73b5295-8ad2-4504-9835-11ed7f635265",
    "trusted": true
   },
   "outputs": [
    {
     "name": "stderr",
     "output_type": "stream",
     "text": [
      "/opt/conda/lib/python3.10/site-packages/torch/nn/parallel/parallel_apply.py:79: FutureWarning: `torch.cuda.amp.autocast(args...)` is deprecated. Please use `torch.amp.autocast('cuda', args...)` instead.\n",
      "  with torch.cuda.device(device), torch.cuda.stream(stream), autocast(enabled=autocast_enabled):\n",
      "/kaggle/working/U-2-Net/model/u2net.py:23: UserWarning: `nn.functional.upsample` is deprecated. Use `nn.functional.interpolate` instead.\n",
      "  src = F.upsample(src,size=tar.shape[2:],mode='bilinear')\n"
     ]
    },
    {
     "name": "stdout",
     "output_type": "stream",
     "text": [
      "Test IoU: 0.7262\n"
     ]
    }
   ],
   "source": [
    "# Function to calculate IoU\n",
    "\n",
    "def calculate_iou(preds, labels):\n",
    "\n",
    "    # Ensure predictions are binary (0 or 1)\n",
    "\n",
    "    preds_binary = (preds > 0.5).float()  # Convert to binary predictions\n",
    "\n",
    "\n",
    "\n",
    "    # Flatten the arrays to calculate IoU for the entire image\n",
    "\n",
    "    preds_flat = preds_binary.cpu().numpy().flatten()\n",
    "\n",
    "    labels_flat = labels.cpu().numpy().flatten()\n",
    "\n",
    "\n",
    "\n",
    "    # Convert labels to integers (0 or 1) if they are not already\n",
    "\n",
    "    labels_flat = labels_flat.astype(int)\n",
    "\n",
    "\n",
    "\n",
    "    # Calculate intersection and union\n",
    "\n",
    "    intersection = np.logical_and(preds_flat, labels_flat).sum()\n",
    "\n",
    "    union = np.logical_or(preds_flat, labels_flat).sum()\n",
    "\n",
    "\n",
    "\n",
    "    # Calculate IoU (handle division by zero)\n",
    "\n",
    "    iou = intersection / union if union != 0 else 0.0\n",
    "\n",
    "\n",
    "\n",
    "    return iou\n",
    "\n",
    "\n",
    "\n",
    "# Calculate and print IoU for the test set\n",
    "\n",
    "def evaluate_iou(model, test_loader):\n",
    "\n",
    "    model.eval()  # Set model to evaluation mode\n",
    "\n",
    "    total_iou = 0\n",
    "\n",
    "    total_images = 0\n",
    "\n",
    "\n",
    "\n",
    "    with torch.no_grad():\n",
    "\n",
    "        for images, masks in test_loader:\n",
    "\n",
    "            images = images.cuda()\n",
    "\n",
    "            masks = masks.cuda()\n",
    "\n",
    "\n",
    "\n",
    "            outputs = model(images)\n",
    "\n",
    "            preds = outputs[0]\n",
    "\n",
    "\n",
    "\n",
    "            iou = calculate_iou(preds, masks)\n",
    "\n",
    "            total_iou += iou * images.size(0)  # Weight by batch size\n",
    "\n",
    "            total_images += images.size(0)\n",
    "\n",
    "\n",
    "\n",
    "    # Average IoU across all test batches\n",
    "\n",
    "    avg_iou = total_iou / total_images\n",
    "\n",
    "    print(f\"Test IoU: {avg_iou:.4f}\")\n",
    "\n",
    "\n",
    "\n",
    "# Call the function to evaluate IoU on the test set\n",
    "\n",
    "evaluate_iou(model, test_loader)"
   ]
  },
  {
   "cell_type": "code",
   "execution_count": null,
   "metadata": {
    "trusted": true
   },
   "outputs": [],
   "source": []
  }
 ],
 "metadata": {
  "accelerator": "GPU",
  "colab": {
   "gpuType": "T4",
   "provenance": []
  },
  "kaggle": {
   "accelerator": "nvidiaTeslaT4",
   "dataSources": [
    {
     "datasetId": 2539169,
     "sourceId": 4310761,
     "sourceType": "datasetVersion"
    }
   ],
   "dockerImageVersionId": 30787,
   "isGpuEnabled": true,
   "isInternetEnabled": true,
   "language": "python",
   "sourceType": "notebook"
  },
  "kernelspec": {
   "display_name": "Python 3",
   "language": "python",
   "name": "python3"
  },
  "language_info": {
   "codemirror_mode": {
    "name": "ipython",
    "version": 3
   },
   "file_extension": ".py",
   "mimetype": "text/x-python",
   "name": "python",
   "nbconvert_exporter": "python",
   "pygments_lexer": "ipython3",
   "version": "3.10.14"
  }
 },
 "nbformat": 4,
 "nbformat_minor": 4
}
