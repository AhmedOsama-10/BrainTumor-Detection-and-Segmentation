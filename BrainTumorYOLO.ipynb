{
 "cells": [
  {
   "cell_type": "code",
   "execution_count": 2,
   "id": "a072ead6",
   "metadata": {},
   "outputs": [
    {
     "name": "stdout",
     "output_type": "stream",
     "text": [
      "Number of GPU:  1\n",
      "GPU Name:  NVIDIA GeForce RTX 2060\n",
      "Using device: cuda\n"
     ]
    }
   ],
   "source": [
    "import torch\n",
    "\n",
    "print(\"Number of GPU: \", torch.cuda.device_count())\n",
    "print(\"GPU Name: \", torch.cuda.get_device_name())\n",
    "\n",
    "\n",
    "device = torch.device('cuda' if torch.cuda.is_available() else 'cpu')\n",
    "print('Using device:', device)"
   ]
  },
  {
   "cell_type": "code",
   "execution_count": 3,
   "id": "a0591f73",
   "metadata": {},
   "outputs": [],
   "source": [
    "from ultralytics import YOLO"
   ]
  },
  {
   "cell_type": "code",
   "execution_count": 4,
   "id": "18ccd2f1",
   "metadata": {},
   "outputs": [],
   "source": [
    "torch.cuda.empty_cache()"
   ]
  },
  {
   "cell_type": "code",
   "execution_count": 5,
   "id": "f5ad7b2d",
   "metadata": {},
   "outputs": [],
   "source": [
    "from ultralytics import YOLO\n",
    "\n",
    "# Load the YOLO model\n",
    "model = YOLO(\"yolo11n.pt\")\n",
    "#model = YOLO(\"C:/Users/ahmed/Downloads/split_dataset/runs/detect/train/weights/best.pt\")\n",
    "\n",
    "# Train the model with augmentations\n",
    "train_results = model.train(\n",
    "    data=\"C:/Users/ahmed/Downloads/split_dataset/brain_tumor_dataset.yaml\",\n",
    "    epochs=200,\n",
    "    imgsz=416,\n",
    "    batch=16,\n",
    "    amp=True,\n",
    "    augment=True  # Add augmentation parameters here\n",
    ")\n",
    "\n",
    "\n",
    "# Evaluate the model on the validation set\n",
    "val_metrics = model.val()\n",
    "\n",
    "# Evaluate the model on the test set (after training is complete)\n",
    "test_metrics = model.val(split='test')\n"
   ]
  },
  {
   "cell_type": "code",
   "execution_count": 6,
   "id": "4aba0829",
   "metadata": {},
   "outputs": [
    {
     "name": "stdout",
     "output_type": "stream",
     "text": [
      "\n",
      "image 1/168 C:\\Users\\ahmed\\Downloads\\Compressed\\Brain Tumor.v1-v1.folder\\Brain-Tumor-1\\test\\glioma\\Te-gl_0016_jpg.rf.284be5fcdd48a27fc3d0d5c46bffbb03.jpg: 416x416 1 glioma, 11.5ms\n",
      "image 2/168 C:\\Users\\ahmed\\Downloads\\Compressed\\Brain Tumor.v1-v1.folder\\Brain-Tumor-1\\test\\glioma\\Te-gl_0020_jpg.rf.9ebeca7c9c9151df3e94005e1c0b36be.jpg: 416x416 1 glioma, 13.6ms\n",
      "image 3/168 C:\\Users\\ahmed\\Downloads\\Compressed\\Brain Tumor.v1-v1.folder\\Brain-Tumor-1\\test\\glioma\\Te-gl_0021_jpg.rf.be847307f452b16f3cae239c79ed4075.jpg: 416x416 1 glioma, 12.8ms\n",
      "image 4/168 C:\\Users\\ahmed\\Downloads\\Compressed\\Brain Tumor.v1-v1.folder\\Brain-Tumor-1\\test\\glioma\\Te-gl_0041_jpg.rf.a8a7a28f50d7948e0da0a6f314bc6f4e.jpg: 416x416 1 glioma, 14.2ms\n",
      "image 5/168 C:\\Users\\ahmed\\Downloads\\Compressed\\Brain Tumor.v1-v1.folder\\Brain-Tumor-1\\test\\glioma\\Te-gl_0054_jpg.rf.7852ba2414d6b3c3a641d6376b88cc28.jpg: 416x416 1 glioma, 9.4ms\n",
      "image 6/168 C:\\Users\\ahmed\\Downloads\\Compressed\\Brain Tumor.v1-v1.folder\\Brain-Tumor-1\\test\\glioma\\Te-gl_0057_jpg.rf.0e5b82add681a98bf474ac78e082a2ea.jpg: 416x416 (no detections), 11.0ms\n",
      "image 7/168 C:\\Users\\ahmed\\Downloads\\Compressed\\Brain Tumor.v1-v1.folder\\Brain-Tumor-1\\test\\glioma\\Te-gl_0074_jpg.rf.d802467757d0fc5dc8ad2cb4bf00318f.jpg: 416x416 1 glioma, 10.8ms\n",
      "image 8/168 C:\\Users\\ahmed\\Downloads\\Compressed\\Brain Tumor.v1-v1.folder\\Brain-Tumor-1\\test\\glioma\\Te-gl_0089_jpg.rf.81d2cb3e7dc23c1dbc370598b148eeec.jpg: 416x416 (no detections), 9.9ms\n",
      "image 9/168 C:\\Users\\ahmed\\Downloads\\Compressed\\Brain Tumor.v1-v1.folder\\Brain-Tumor-1\\test\\glioma\\Te-gl_0106_jpg.rf.69dcd4ef8614f34b64a1803267212a1e.jpg: 416x416 (no detections), 10.3ms\n",
      "image 10/168 C:\\Users\\ahmed\\Downloads\\Compressed\\Brain Tumor.v1-v1.folder\\Brain-Tumor-1\\test\\glioma\\Te-gl_0145_jpg.rf.4f1e8db42ab19e8cbfafa3ba1870b0d7.jpg: 416x416 1 glioma, 13.5ms\n",
      "image 11/168 C:\\Users\\ahmed\\Downloads\\Compressed\\Brain Tumor.v1-v1.folder\\Brain-Tumor-1\\test\\glioma\\Te-gl_0148_jpg.rf.9d84b724f0d5fe167dc85f569d98015e.jpg: 416x416 2 gliomas, 10.8ms\n",
      "image 12/168 C:\\Users\\ahmed\\Downloads\\Compressed\\Brain Tumor.v1-v1.folder\\Brain-Tumor-1\\test\\glioma\\Te-gl_0194_jpg.rf.2b1d1e57f716bcfc5e4aba0b36395f62.jpg: 416x416 1 glioma, 11.1ms\n",
      "image 13/168 C:\\Users\\ahmed\\Downloads\\Compressed\\Brain Tumor.v1-v1.folder\\Brain-Tumor-1\\test\\glioma\\Te-gl_0199_jpg.rf.24fc229eed399c8a7dadf0548c0bb83e.jpg: 416x416 (no detections), 9.9ms\n",
      "image 14/168 C:\\Users\\ahmed\\Downloads\\Compressed\\Brain Tumor.v1-v1.folder\\Brain-Tumor-1\\test\\glioma\\Te-gl_0219_jpg.rf.211f76e771d6a8a02d6bd29580ce8cf3.jpg: 416x416 (no detections), 11.2ms\n",
      "image 15/168 C:\\Users\\ahmed\\Downloads\\Compressed\\Brain Tumor.v1-v1.folder\\Brain-Tumor-1\\test\\glioma\\Te-gl_0236_jpg.rf.f70e9c98a608dd58bada02f1c4559782.jpg: 416x416 1 glioma, 11.9ms\n",
      "image 16/168 C:\\Users\\ahmed\\Downloads\\Compressed\\Brain Tumor.v1-v1.folder\\Brain-Tumor-1\\test\\glioma\\Te-gl_0247_jpg.rf.3e89c6ea0a04241f9d855e692ac22e3d.jpg: 416x416 (no detections), 10.1ms\n",
      "image 17/168 C:\\Users\\ahmed\\Downloads\\Compressed\\Brain Tumor.v1-v1.folder\\Brain-Tumor-1\\test\\glioma\\Te-gl_0252_jpg.rf.ee6bba583a0428d2cf8b656223b752d1.jpg: 416x416 1 glioma, 9.9ms\n",
      "image 18/168 C:\\Users\\ahmed\\Downloads\\Compressed\\Brain Tumor.v1-v1.folder\\Brain-Tumor-1\\test\\glioma\\Te-gl_0270_jpg.rf.b67ff056e2708ccb0bb0dd8546ab6e53.jpg: 416x416 (no detections), 9.9ms\n",
      "image 19/168 C:\\Users\\ahmed\\Downloads\\Compressed\\Brain Tumor.v1-v1.folder\\Brain-Tumor-1\\test\\glioma\\Te-gl_0285_jpg.rf.f2e9cbcb003aff2bec4cd9fcd1e04efd.jpg: 416x416 2 gliomas, 10.9ms\n",
      "image 20/168 C:\\Users\\ahmed\\Downloads\\Compressed\\Brain Tumor.v1-v1.folder\\Brain-Tumor-1\\test\\glioma\\Te-gl_0288_jpg.rf.392b00d4667fd49e41d4bf20979a6b28.jpg: 416x416 1 glioma, 10.0ms\n",
      "image 21/168 C:\\Users\\ahmed\\Downloads\\Compressed\\Brain Tumor.v1-v1.folder\\Brain-Tumor-1\\test\\glioma\\Te-gl_0298_jpg.rf.6add67765336050cf3dad79e362abebd.jpg: 416x416 1 glioma, 9.9ms\n",
      "image 22/168 C:\\Users\\ahmed\\Downloads\\Compressed\\Brain Tumor.v1-v1.folder\\Brain-Tumor-1\\test\\glioma\\Tr-glTr_0004_jpg.rf.c527c1467e8ee55577adb0ff0a0d8b43.jpg: 416x416 (no detections), 9.1ms\n",
      "image 23/168 C:\\Users\\ahmed\\Downloads\\Compressed\\Brain Tumor.v1-v1.folder\\Brain-Tumor-1\\test\\glioma\\Tr-gl_0011_jpg.rf.c5db86dd690ab7130060ff53f9beba49.jpg: 416x416 (no detections), 11.5ms\n",
      "image 24/168 C:\\Users\\ahmed\\Downloads\\Compressed\\Brain Tumor.v1-v1.folder\\Brain-Tumor-1\\test\\glioma\\Tr-gl_0017_jpg.rf.4e2623aeffd8b2a95de24730dbad12a6.jpg: 416x416 1 glioma, 12.0ms\n",
      "image 25/168 C:\\Users\\ahmed\\Downloads\\Compressed\\Brain Tumor.v1-v1.folder\\Brain-Tumor-1\\test\\glioma\\Tr-gl_0020_jpg.rf.bcf4d271e78559c8b036c6f05d812e50.jpg: 416x416 1 glioma, 9.8ms\n",
      "image 26/168 C:\\Users\\ahmed\\Downloads\\Compressed\\Brain Tumor.v1-v1.folder\\Brain-Tumor-1\\test\\glioma\\Tr-gl_0028_jpg.rf.e33c77dbd2db8d7c530f05da451dba4d.jpg: 416x416 1 glioma, 10.8ms\n",
      "image 27/168 C:\\Users\\ahmed\\Downloads\\Compressed\\Brain Tumor.v1-v1.folder\\Brain-Tumor-1\\test\\glioma\\Tr-gl_0051_jpg.rf.dc2ec36787f73bc1fd3ba428009bba28.jpg: 416x416 1 glioma, 15.1ms\n",
      "image 28/168 C:\\Users\\ahmed\\Downloads\\Compressed\\Brain Tumor.v1-v1.folder\\Brain-Tumor-1\\test\\glioma\\Tr-gl_0058_jpg.rf.55d92cf189cfbf06c1f3a369577a5696.jpg: 416x416 1 glioma, 11.8ms\n",
      "image 29/168 C:\\Users\\ahmed\\Downloads\\Compressed\\Brain Tumor.v1-v1.folder\\Brain-Tumor-1\\test\\glioma\\Tr-gl_0078_jpg.rf.bb19d0afd7fe5527fab37f82706352b0.jpg: 416x416 1 glioma, 18.1ms\n",
      "image 30/168 C:\\Users\\ahmed\\Downloads\\Compressed\\Brain Tumor.v1-v1.folder\\Brain-Tumor-1\\test\\glioma\\Tr-gl_0079_jpg.rf.dbc8eaf2730ef3119500f42fc08d8fa0.jpg: 416x416 (no detections), 19.9ms\n",
      "image 31/168 C:\\Users\\ahmed\\Downloads\\Compressed\\Brain Tumor.v1-v1.folder\\Brain-Tumor-1\\test\\glioma\\Tr-gl_0080_jpg.rf.f0d61c3643b017b69c9f93b355324893.jpg: 416x416 (no detections), 16.9ms\n",
      "image 32/168 C:\\Users\\ahmed\\Downloads\\Compressed\\Brain Tumor.v1-v1.folder\\Brain-Tumor-1\\test\\glioma\\Tr-gl_0081_jpg.rf.83c6b3912f4a3ce64320a9012871f720.jpg: 416x416 1 glioma, 12.7ms\n",
      "image 33/168 C:\\Users\\ahmed\\Downloads\\Compressed\\Brain Tumor.v1-v1.folder\\Brain-Tumor-1\\test\\glioma\\Tr-gl_0084_jpg.rf.b7e3ddf78ffbb118f954e149644601ca.jpg: 416x416 1 glioma, 10.5ms\n",
      "image 34/168 C:\\Users\\ahmed\\Downloads\\Compressed\\Brain Tumor.v1-v1.folder\\Brain-Tumor-1\\test\\glioma\\Tr-gl_0086_jpg.rf.3a33e57f18f642101448cb09b94b2454.jpg: 416x416 1 glioma, 9.8ms\n",
      "image 35/168 C:\\Users\\ahmed\\Downloads\\Compressed\\Brain Tumor.v1-v1.folder\\Brain-Tumor-1\\test\\glioma\\Tr-gl_0087_jpg.rf.19c84cfdd54b6afa5e82ae39b842c4b3.jpg: 416x416 1 glioma, 12.9ms\n",
      "image 36/168 C:\\Users\\ahmed\\Downloads\\Compressed\\Brain Tumor.v1-v1.folder\\Brain-Tumor-1\\test\\glioma\\Tr-gl_0094_jpg.rf.4b7920f4fe4d7cca6b036a6ecb70bbfb.jpg: 416x416 1 glioma, 10.8ms\n",
      "image 37/168 C:\\Users\\ahmed\\Downloads\\Compressed\\Brain Tumor.v1-v1.folder\\Brain-Tumor-1\\test\\glioma\\Tr-gl_0097_jpg.rf.809fe6e27d4ca2f5ac594c61829782a2.jpg: 416x416 1 glioma, 12.7ms\n",
      "image 38/168 C:\\Users\\ahmed\\Downloads\\Compressed\\Brain Tumor.v1-v1.folder\\Brain-Tumor-1\\test\\glioma\\Tr-gl_0104_jpg.rf.c843c29cadefb3d3ff916f95d86c4029.jpg: 416x416 1 glioma, 8.9ms\n",
      "image 39/168 C:\\Users\\ahmed\\Downloads\\Compressed\\Brain Tumor.v1-v1.folder\\Brain-Tumor-1\\test\\glioma\\Tr-gl_0112_jpg.rf.387e1a8f524f77114ca4f90eed61c034.jpg: 416x416 1 glioma, 9.9ms\n",
      "image 40/168 C:\\Users\\ahmed\\Downloads\\Compressed\\Brain Tumor.v1-v1.folder\\Brain-Tumor-1\\test\\glioma\\Tr-gl_0127_jpg.rf.d6f4ce558425487542d020f35ce80de1.jpg: 416x416 1 glioma, 12.7ms\n",
      "image 41/168 C:\\Users\\ahmed\\Downloads\\Compressed\\Brain Tumor.v1-v1.folder\\Brain-Tumor-1\\test\\glioma\\Tr-gl_0130_jpg.rf.4d27c1dc9e8c6c040b441bd54bba4427.jpg: 416x416 1 glioma, 10.8ms\n",
      "image 42/168 C:\\Users\\ahmed\\Downloads\\Compressed\\Brain Tumor.v1-v1.folder\\Brain-Tumor-1\\test\\glioma\\Tr-gl_0145_jpg.rf.022c583e727f1366c3f2384400c9810e.jpg: 416x416 1 glioma, 14.2ms\n",
      "image 43/168 C:\\Users\\ahmed\\Downloads\\Compressed\\Brain Tumor.v1-v1.folder\\Brain-Tumor-1\\test\\glioma\\Tr-gl_0160_jpg.rf.b4bd79c6f56570785636e5553b6a3b2d.jpg: 416x416 1 glioma, 14.6ms\n",
      "image 44/168 C:\\Users\\ahmed\\Downloads\\Compressed\\Brain Tumor.v1-v1.folder\\Brain-Tumor-1\\test\\glioma\\Tr-gl_0165_jpg.rf.ee07ac2fb63976852daa23f3812f0b0f.jpg: 416x416 1 glioma, 17.2ms\n",
      "image 45/168 C:\\Users\\ahmed\\Downloads\\Compressed\\Brain Tumor.v1-v1.folder\\Brain-Tumor-1\\test\\glioma\\Tr-gl_0173_jpg.rf.bce76cc7b05ef98d4f9e701af41cc9b6.jpg: 416x416 1 glioma, 15.7ms\n"
     ]
    },
    {
     "name": "stdout",
     "output_type": "stream",
     "text": [
      "image 46/168 C:\\Users\\ahmed\\Downloads\\Compressed\\Brain Tumor.v1-v1.folder\\Brain-Tumor-1\\test\\glioma\\Tr-gl_0176_jpg.rf.5c079fd1e8e7d8c70cbce3b0f3adc51f.jpg: 416x416 1 glioma, 17.0ms\n",
      "image 47/168 C:\\Users\\ahmed\\Downloads\\Compressed\\Brain Tumor.v1-v1.folder\\Brain-Tumor-1\\test\\glioma\\Tr-gl_0183_jpg.rf.97d9e77640ab6425bc0c282d69e53116.jpg: 416x416 (no detections), 13.0ms\n",
      "image 48/168 C:\\Users\\ahmed\\Downloads\\Compressed\\Brain Tumor.v1-v1.folder\\Brain-Tumor-1\\test\\glioma\\Tr-gl_0184_jpg.rf.c69ae8e9b55a258af7f381de4f756631.jpg: 416x416 (no detections), 14.2ms\n",
      "image 49/168 C:\\Users\\ahmed\\Downloads\\Compressed\\Brain Tumor.v1-v1.folder\\Brain-Tumor-1\\test\\glioma\\Tr-gl_0190_jpg.rf.9bd47f236f59da5d60f057282c01eeb1.jpg: 416x416 1 glioma, 12.7ms\n",
      "image 50/168 C:\\Users\\ahmed\\Downloads\\Compressed\\Brain Tumor.v1-v1.folder\\Brain-Tumor-1\\test\\glioma\\Tr-gl_0192_jpg.rf.605f51b3923d094f909e7018e749ecdf.jpg: 416x416 1 glioma, 10.4ms\n",
      "image 51/168 C:\\Users\\ahmed\\Downloads\\Compressed\\Brain Tumor.v1-v1.folder\\Brain-Tumor-1\\test\\glioma\\Tr-gl_0197_jpg.rf.62a695caa6510756a40d739e4ffa95d3.jpg: 416x416 1 glioma, 9.9ms\n",
      "image 52/168 C:\\Users\\ahmed\\Downloads\\Compressed\\Brain Tumor.v1-v1.folder\\Brain-Tumor-1\\test\\glioma\\Tr-gl_0206_jpg.rf.2ba3f00d8559394a438747dfed9d6b88.jpg: 416x416 1 glioma, 10.0ms\n",
      "image 53/168 C:\\Users\\ahmed\\Downloads\\Compressed\\Brain Tumor.v1-v1.folder\\Brain-Tumor-1\\test\\glioma\\Tr-gl_0207_jpg.rf.3f9ea76b37a3bfb4406ba3e17d8022e6.jpg: 416x416 1 glioma, 11.7ms\n",
      "image 54/168 C:\\Users\\ahmed\\Downloads\\Compressed\\Brain Tumor.v1-v1.folder\\Brain-Tumor-1\\test\\glioma\\Tr-gl_0211_jpg.rf.7f0e75ee51b0ddbfa647be317249f533.jpg: 416x416 1 glioma, 9.9ms\n",
      "image 55/168 C:\\Users\\ahmed\\Downloads\\Compressed\\Brain Tumor.v1-v1.folder\\Brain-Tumor-1\\test\\glioma\\Tr-gl_0216_jpg.rf.d0e9470304506a3853f7baa1be0bce90.jpg: 416x416 1 glioma, 10.9ms\n",
      "image 56/168 C:\\Users\\ahmed\\Downloads\\Compressed\\Brain Tumor.v1-v1.folder\\Brain-Tumor-1\\test\\glioma\\Tr-gl_0218_jpg.rf.f7a3d87e3de1f3abf860eec437f3bca4.jpg: 416x416 1 glioma, 9.9ms\n",
      "image 57/168 C:\\Users\\ahmed\\Downloads\\Compressed\\Brain Tumor.v1-v1.folder\\Brain-Tumor-1\\test\\glioma\\Tr-gl_0221_jpg.rf.35499fe4a2907ca337d7970daff38ae3.jpg: 416x416 1 glioma, 12.8ms\n",
      "image 58/168 C:\\Users\\ahmed\\Downloads\\Compressed\\Brain Tumor.v1-v1.folder\\Brain-Tumor-1\\test\\glioma\\Tr-gl_0222_jpg.rf.fdeb2fb249cce6f687ec733f5ee4fc9f.jpg: 416x416 1 glioma, 12.0ms\n",
      "image 59/168 C:\\Users\\ahmed\\Downloads\\Compressed\\Brain Tumor.v1-v1.folder\\Brain-Tumor-1\\test\\glioma\\Tr-gl_0228_jpg.rf.7dc7f1aff7487c2943cbd30f6b1c5aaf.jpg: 416x416 1 glioma, 14.1ms\n",
      "image 60/168 C:\\Users\\ahmed\\Downloads\\Compressed\\Brain Tumor.v1-v1.folder\\Brain-Tumor-1\\test\\glioma\\Tr-gl_0235_jpg.rf.271b13f89bd19e92d0d72cdaa1e7e6cf.jpg: 416x416 1 glioma, 11.5ms\n",
      "image 61/168 C:\\Users\\ahmed\\Downloads\\Compressed\\Brain Tumor.v1-v1.folder\\Brain-Tumor-1\\test\\glioma\\Tr-gl_0252_jpg.rf.0b3ba38c6a27de6ac1938793795d2a0f.jpg: 416x416 1 glioma, 12.8ms\n",
      "image 62/168 C:\\Users\\ahmed\\Downloads\\Compressed\\Brain Tumor.v1-v1.folder\\Brain-Tumor-1\\test\\glioma\\Tr-gl_0274_jpg.rf.2f2c137900be1b37d988a844ccfeab99.jpg: 416x416 1 glioma, 20.8ms\n",
      "image 63/168 C:\\Users\\ahmed\\Downloads\\Compressed\\Brain Tumor.v1-v1.folder\\Brain-Tumor-1\\test\\glioma\\Tr-gl_0285_jpg.rf.bbfdfe4598a9ad11ca1c1fec3df2b7c8.jpg: 416x416 (no detections), 12.4ms\n",
      "image 64/168 C:\\Users\\ahmed\\Downloads\\Compressed\\Brain Tumor.v1-v1.folder\\Brain-Tumor-1\\test\\glioma\\Tr-gl_0297_jpg.rf.31fb197a0ee02dad7589a0df34c82fe4.jpg: 416x416 (no detections), 11.8ms\n",
      "image 65/168 C:\\Users\\ahmed\\Downloads\\Compressed\\Brain Tumor.v1-v1.folder\\Brain-Tumor-1\\test\\glioma\\Tr-gl_0301_jpg.rf.22fbfa5b9a92c0e00b3fba6fa20f7591.jpg: 416x416 1 glioma, 15.5ms\n",
      "image 66/168 C:\\Users\\ahmed\\Downloads\\Compressed\\Brain Tumor.v1-v1.folder\\Brain-Tumor-1\\test\\glioma\\Tr-gl_0318_jpg.rf.83a2d8164e6e08cbe358dd448bfecd5f.jpg: 416x416 (no detections), 10.8ms\n",
      "image 67/168 C:\\Users\\ahmed\\Downloads\\Compressed\\Brain Tumor.v1-v1.folder\\Brain-Tumor-1\\test\\glioma\\Tr-gl_0331_jpg.rf.6be013dda78579d8d009ed31700c033b.jpg: 416x416 1 glioma, 13.4ms\n",
      "image 68/168 C:\\Users\\ahmed\\Downloads\\Compressed\\Brain Tumor.v1-v1.folder\\Brain-Tumor-1\\test\\glioma\\Tr-gl_0334_jpg.rf.ff17286f1f911b00b0422e382bc4f3e9.jpg: 416x416 1 glioma, 14.2ms\n",
      "image 69/168 C:\\Users\\ahmed\\Downloads\\Compressed\\Brain Tumor.v1-v1.folder\\Brain-Tumor-1\\test\\glioma\\Tr-gl_0336_jpg.rf.7d0c59c47178c65d5f4f930ccc977a45.jpg: 416x416 1 glioma, 11.4ms\n",
      "image 70/168 C:\\Users\\ahmed\\Downloads\\Compressed\\Brain Tumor.v1-v1.folder\\Brain-Tumor-1\\test\\glioma\\Tr-gl_0345_jpg.rf.bb36a6317a3a76b6bc8bb8f110586591.jpg: 416x416 (no detections), 11.8ms\n",
      "image 71/168 C:\\Users\\ahmed\\Downloads\\Compressed\\Brain Tumor.v1-v1.folder\\Brain-Tumor-1\\test\\glioma\\Tr-gl_0352_jpg.rf.2781ed912ae91800f8f5e92d2ae06386.jpg: 416x416 1 glioma, 10.1ms\n",
      "image 72/168 C:\\Users\\ahmed\\Downloads\\Compressed\\Brain Tumor.v1-v1.folder\\Brain-Tumor-1\\test\\glioma\\Tr-gl_0361_jpg.rf.8ab68078f08e9c9153254c2e2d3e795b.jpg: 416x416 1 glioma, 11.8ms\n",
      "image 73/168 C:\\Users\\ahmed\\Downloads\\Compressed\\Brain Tumor.v1-v1.folder\\Brain-Tumor-1\\test\\glioma\\Tr-gl_0369_jpg.rf.a0ad17e7528c2f1d3d4c2a5542baf9b8.jpg: 416x416 1 glioma, 9.9ms\n",
      "image 74/168 C:\\Users\\ahmed\\Downloads\\Compressed\\Brain Tumor.v1-v1.folder\\Brain-Tumor-1\\test\\glioma\\Tr-gl_0371_jpg.rf.88dbebe288fa47e758975090e0dfa246.jpg: 416x416 1 glioma, 9.3ms\n",
      "image 75/168 C:\\Users\\ahmed\\Downloads\\Compressed\\Brain Tumor.v1-v1.folder\\Brain-Tumor-1\\test\\glioma\\Tr-gl_0378_jpg.rf.b75774c49ff338120d4eb59f3c4f48ea.jpg: 416x416 (no detections), 10.9ms\n",
      "image 76/168 C:\\Users\\ahmed\\Downloads\\Compressed\\Brain Tumor.v1-v1.folder\\Brain-Tumor-1\\test\\glioma\\Tr-gl_0380_jpg.rf.7d41d7c838a9ea6583cc0413328a753a.jpg: 416x416 1 glioma, 10.8ms\n",
      "image 77/168 C:\\Users\\ahmed\\Downloads\\Compressed\\Brain Tumor.v1-v1.folder\\Brain-Tumor-1\\test\\glioma\\Tr-gl_0383_jpg.rf.70595e6f4cfa9ef202efb45934f901ea.jpg: 416x416 1 glioma, 10.7ms\n",
      "image 78/168 C:\\Users\\ahmed\\Downloads\\Compressed\\Brain Tumor.v1-v1.folder\\Brain-Tumor-1\\test\\glioma\\Tr-gl_0397_jpg.rf.f6f0b2982a062c3b6e70942b764d87aa.jpg: 416x416 2 gliomas, 8.4ms\n",
      "image 79/168 C:\\Users\\ahmed\\Downloads\\Compressed\\Brain Tumor.v1-v1.folder\\Brain-Tumor-1\\test\\glioma\\Tr-gl_0402_jpg.rf.1e92cb5f0157420a57303733474da45f.jpg: 416x416 1 glioma, 9.9ms\n",
      "image 80/168 C:\\Users\\ahmed\\Downloads\\Compressed\\Brain Tumor.v1-v1.folder\\Brain-Tumor-1\\test\\glioma\\Tr-gl_0405_jpg.rf.f77fefd6e5ebab6078cfe0434734f936.jpg: 416x416 1 glioma, 9.9ms\n",
      "image 81/168 C:\\Users\\ahmed\\Downloads\\Compressed\\Brain Tumor.v1-v1.folder\\Brain-Tumor-1\\test\\glioma\\Tr-gl_0428_jpg.rf.81e2995e8789dc60860e6967a1ec2549.jpg: 416x416 1 glioma, 13.7ms\n",
      "image 82/168 C:\\Users\\ahmed\\Downloads\\Compressed\\Brain Tumor.v1-v1.folder\\Brain-Tumor-1\\test\\glioma\\Tr-gl_0433_jpg.rf.060ea3caad687e2c92e176ecfb7aca15.jpg: 416x416 1 glioma, 10.8ms\n",
      "image 83/168 C:\\Users\\ahmed\\Downloads\\Compressed\\Brain Tumor.v1-v1.folder\\Brain-Tumor-1\\test\\glioma\\Tr-gl_0445_jpg.rf.325f90987d70a10d6567c828c1f01f23.jpg: 416x416 1 glioma, 12.9ms\n",
      "image 84/168 C:\\Users\\ahmed\\Downloads\\Compressed\\Brain Tumor.v1-v1.folder\\Brain-Tumor-1\\test\\glioma\\Tr-gl_0468_jpg.rf.61dd7e6ea47bb8395e9348b31cea5581.jpg: 416x416 1 glioma, 11.8ms\n",
      "image 85/168 C:\\Users\\ahmed\\Downloads\\Compressed\\Brain Tumor.v1-v1.folder\\Brain-Tumor-1\\test\\glioma\\Tr-gl_0476_jpg.rf.8b76a8b85da7a591bd870b88fa14d206.jpg: 416x416 1 glioma, 13.8ms\n",
      "image 86/168 C:\\Users\\ahmed\\Downloads\\Compressed\\Brain Tumor.v1-v1.folder\\Brain-Tumor-1\\test\\glioma\\Tr-gl_0489_jpg.rf.02e1dc78f7f40ea5b18439d0c636cf7b.jpg: 416x416 1 glioma, 11.2ms\n",
      "image 87/168 C:\\Users\\ahmed\\Downloads\\Compressed\\Brain Tumor.v1-v1.folder\\Brain-Tumor-1\\test\\glioma\\Tr-gl_0493_jpg.rf.e8125634cc27cec6d499983c2cf97508.jpg: 416x416 (no detections), 12.8ms\n",
      "image 88/168 C:\\Users\\ahmed\\Downloads\\Compressed\\Brain Tumor.v1-v1.folder\\Brain-Tumor-1\\test\\glioma\\Tr-gl_0505_jpg.rf.5d5d85fc632e676a3658a6928fb6d8af.jpg: 416x416 1 glioma, 10.8ms\n",
      "image 89/168 C:\\Users\\ahmed\\Downloads\\Compressed\\Brain Tumor.v1-v1.folder\\Brain-Tumor-1\\test\\glioma\\Tr-gl_0514_jpg.rf.38e7e878de1a7ebae246496d6b7aa10c.jpg: 416x416 (no detections), 11.4ms\n",
      "image 90/168 C:\\Users\\ahmed\\Downloads\\Compressed\\Brain Tumor.v1-v1.folder\\Brain-Tumor-1\\test\\glioma\\Tr-gl_0516_jpg.rf.1cfe7b77c4fdb30c93770397e388f77d.jpg: 416x416 (no detections), 10.0ms\n"
     ]
    },
    {
     "name": "stdout",
     "output_type": "stream",
     "text": [
      "image 91/168 C:\\Users\\ahmed\\Downloads\\Compressed\\Brain Tumor.v1-v1.folder\\Brain-Tumor-1\\test\\glioma\\Tr-gl_0517_jpg.rf.e36cdbda250fb0f7d6fd069e4b2c7e75.jpg: 416x416 1 glioma, 9.4ms\n",
      "image 92/168 C:\\Users\\ahmed\\Downloads\\Compressed\\Brain Tumor.v1-v1.folder\\Brain-Tumor-1\\test\\glioma\\Tr-gl_0534_jpg.rf.3113c0d7126c27b0b4ef4a121a182f73.jpg: 416x416 1 glioma, 10.5ms\n",
      "image 93/168 C:\\Users\\ahmed\\Downloads\\Compressed\\Brain Tumor.v1-v1.folder\\Brain-Tumor-1\\test\\glioma\\Tr-gl_0566_jpg.rf.23b934994441df3db9906b7350deed14.jpg: 416x416 1 glioma, 10.3ms\n",
      "image 94/168 C:\\Users\\ahmed\\Downloads\\Compressed\\Brain Tumor.v1-v1.folder\\Brain-Tumor-1\\test\\glioma\\Tr-gl_0567_jpg.rf.21d9a4fd3528995c581f830a379f2d86.jpg: 416x416 1 glioma, 9.8ms\n",
      "image 95/168 C:\\Users\\ahmed\\Downloads\\Compressed\\Brain Tumor.v1-v1.folder\\Brain-Tumor-1\\test\\glioma\\Tr-gl_0576_jpg.rf.cd3d66bba06b959f343bf109f59f7bf4.jpg: 416x416 (no detections), 10.8ms\n",
      "image 96/168 C:\\Users\\ahmed\\Downloads\\Compressed\\Brain Tumor.v1-v1.folder\\Brain-Tumor-1\\test\\glioma\\Tr-gl_0645_jpg.rf.d52a1a214a055b208b09c959191f3e45.jpg: 416x416 (no detections), 10.3ms\n",
      "image 97/168 C:\\Users\\ahmed\\Downloads\\Compressed\\Brain Tumor.v1-v1.folder\\Brain-Tumor-1\\test\\glioma\\Tr-gl_0651_jpg.rf.cd3e02e81d8824bff5303d6ad2e3083a.jpg: 416x416 1 glioma, 9.8ms\n",
      "image 98/168 C:\\Users\\ahmed\\Downloads\\Compressed\\Brain Tumor.v1-v1.folder\\Brain-Tumor-1\\test\\glioma\\Tr-gl_0653_jpg.rf.8143e3314e378e205fc4b4bc45f05acb.jpg: 416x416 (no detections), 10.3ms\n",
      "image 99/168 C:\\Users\\ahmed\\Downloads\\Compressed\\Brain Tumor.v1-v1.folder\\Brain-Tumor-1\\test\\glioma\\Tr-gl_0663_jpg.rf.8265064f7e2304547a47280b66cf343d.jpg: 416x416 1 glioma, 9.8ms\n",
      "image 100/168 C:\\Users\\ahmed\\Downloads\\Compressed\\Brain Tumor.v1-v1.folder\\Brain-Tumor-1\\test\\glioma\\Tr-gl_0666_jpg.rf.4094ead7e2b722dae43318f7034792e1.jpg: 416x416 1 glioma, 11.8ms\n",
      "image 101/168 C:\\Users\\ahmed\\Downloads\\Compressed\\Brain Tumor.v1-v1.folder\\Brain-Tumor-1\\test\\glioma\\Tr-gl_0676_jpg.rf.9d5045e3616ec028970b6a2cf72a26c4.jpg: 416x416 1 glioma, 8.9ms\n",
      "image 102/168 C:\\Users\\ahmed\\Downloads\\Compressed\\Brain Tumor.v1-v1.folder\\Brain-Tumor-1\\test\\glioma\\Tr-gl_0678_jpg.rf.5105b392cfd72c6a71f5a349945e91c1.jpg: 416x416 1 glioma, 10.4ms\n",
      "image 103/168 C:\\Users\\ahmed\\Downloads\\Compressed\\Brain Tumor.v1-v1.folder\\Brain-Tumor-1\\test\\glioma\\Tr-gl_0687_jpg.rf.182c2cf33a39c309258a23be3a5aaf2f.jpg: 416x416 (no detections), 9.9ms\n",
      "image 104/168 C:\\Users\\ahmed\\Downloads\\Compressed\\Brain Tumor.v1-v1.folder\\Brain-Tumor-1\\test\\glioma\\Tr-gl_0690_jpg.rf.a537081307a4521e3cdcbabfd57e6ea2.jpg: 416x416 1 glioma, 13.8ms\n",
      "image 105/168 C:\\Users\\ahmed\\Downloads\\Compressed\\Brain Tumor.v1-v1.folder\\Brain-Tumor-1\\test\\glioma\\Tr-gl_0693_jpg.rf.85d6b38f2db3e77a408328cf8931dd5d.jpg: 416x416 1 glioma, 16.3ms\n",
      "image 106/168 C:\\Users\\ahmed\\Downloads\\Compressed\\Brain Tumor.v1-v1.folder\\Brain-Tumor-1\\test\\glioma\\Tr-gl_0701_jpg.rf.1806be596efa33bc2fb7eb37a0e76ee4.jpg: 416x416 1 glioma, 11.9ms\n",
      "image 107/168 C:\\Users\\ahmed\\Downloads\\Compressed\\Brain Tumor.v1-v1.folder\\Brain-Tumor-1\\test\\glioma\\Tr-gl_0727_jpg.rf.fdcbd77a2979f5e3fa9d9276cd1d050e.jpg: 416x416 (no detections), 12.7ms\n",
      "image 108/168 C:\\Users\\ahmed\\Downloads\\Compressed\\Brain Tumor.v1-v1.folder\\Brain-Tumor-1\\test\\glioma\\Tr-gl_0736_jpg.rf.0d2711d279c337b653c95bba47f89b0b.jpg: 416x416 1 glioma, 10.8ms\n",
      "image 109/168 C:\\Users\\ahmed\\Downloads\\Compressed\\Brain Tumor.v1-v1.folder\\Brain-Tumor-1\\test\\glioma\\Tr-gl_0737_jpg.rf.d1866577201439a12418f0c8c5349fe8.jpg: 416x416 1 glioma, 14.3ms\n",
      "image 110/168 C:\\Users\\ahmed\\Downloads\\Compressed\\Brain Tumor.v1-v1.folder\\Brain-Tumor-1\\test\\glioma\\Tr-gl_0740_jpg.rf.74c07fe81e6a8de880cbafde21f66e3d.jpg: 416x416 (no detections), 13.3ms\n",
      "image 111/168 C:\\Users\\ahmed\\Downloads\\Compressed\\Brain Tumor.v1-v1.folder\\Brain-Tumor-1\\test\\glioma\\Tr-gl_0784_jpg.rf.435817df01ab088f149f96917866ce2d.jpg: 416x416 1 glioma, 13.3ms\n",
      "image 112/168 C:\\Users\\ahmed\\Downloads\\Compressed\\Brain Tumor.v1-v1.folder\\Brain-Tumor-1\\test\\glioma\\Tr-gl_0793_jpg.rf.ba6147aaa442a551ab096717375e2420.jpg: 416x416 1 glioma, 9.9ms\n",
      "image 113/168 C:\\Users\\ahmed\\Downloads\\Compressed\\Brain Tumor.v1-v1.folder\\Brain-Tumor-1\\test\\glioma\\Tr-gl_0796_jpg.rf.d09f754f0e2b6fe26de0bdf105501374.jpg: 416x416 2 gliomas, 9.4ms\n",
      "image 114/168 C:\\Users\\ahmed\\Downloads\\Compressed\\Brain Tumor.v1-v1.folder\\Brain-Tumor-1\\test\\glioma\\Tr-gl_0802_jpg.rf.21abc60dc5ff0b46cd1bf4cfd4ede76c.jpg: 416x416 1 meningioma, 10.3ms\n",
      "image 115/168 C:\\Users\\ahmed\\Downloads\\Compressed\\Brain Tumor.v1-v1.folder\\Brain-Tumor-1\\test\\glioma\\Tr-gl_0805_jpg.rf.632ef64abdbe5a1f171bb646891dcbe9.jpg: 416x416 (no detections), 9.4ms\n",
      "image 116/168 C:\\Users\\ahmed\\Downloads\\Compressed\\Brain Tumor.v1-v1.folder\\Brain-Tumor-1\\test\\glioma\\Tr-gl_0806_jpg.rf.aa3fa51cb44029615475bc8ce7398ca3.jpg: 416x416 (no detections), 8.9ms\n",
      "image 117/168 C:\\Users\\ahmed\\Downloads\\Compressed\\Brain Tumor.v1-v1.folder\\Brain-Tumor-1\\test\\glioma\\Tr-gl_0807_jpg.rf.c8c30069b373cca052f62a8712f03bca.jpg: 416x416 1 glioma, 10.9ms\n",
      "image 118/168 C:\\Users\\ahmed\\Downloads\\Compressed\\Brain Tumor.v1-v1.folder\\Brain-Tumor-1\\test\\glioma\\Tr-gl_0823_jpg.rf.66dff17c107a4c95ea337350b35a6078.jpg: 416x416 1 glioma, 9.0ms\n",
      "image 119/168 C:\\Users\\ahmed\\Downloads\\Compressed\\Brain Tumor.v1-v1.folder\\Brain-Tumor-1\\test\\glioma\\Tr-gl_0844_jpg.rf.e84109c9473a8d21cd9949b8928b1d7d.jpg: 416x416 (no detections), 13.2ms\n",
      "image 120/168 C:\\Users\\ahmed\\Downloads\\Compressed\\Brain Tumor.v1-v1.folder\\Brain-Tumor-1\\test\\glioma\\Tr-gl_0849_jpg.rf.60f845851052201902f0e85d5a3ab76f.jpg: 416x416 1 glioma, 12.7ms\n",
      "image 121/168 C:\\Users\\ahmed\\Downloads\\Compressed\\Brain Tumor.v1-v1.folder\\Brain-Tumor-1\\test\\glioma\\Tr-gl_0851_jpg.rf.0ffcd9aaafc26d36334399dd47f41048.jpg: 416x416 (no detections), 11.9ms\n",
      "image 122/168 C:\\Users\\ahmed\\Downloads\\Compressed\\Brain Tumor.v1-v1.folder\\Brain-Tumor-1\\test\\glioma\\Tr-gl_0854_jpg.rf.cd85c411586dfaedf5026d0be95ebcca.jpg: 416x416 2 gliomas, 14.8ms\n",
      "image 123/168 C:\\Users\\ahmed\\Downloads\\Compressed\\Brain Tumor.v1-v1.folder\\Brain-Tumor-1\\test\\glioma\\Tr-gl_0862_jpg.rf.ec3d8a69d96e932e1c97e8d0b22ea75b.jpg: 416x416 1 glioma, 14.9ms\n",
      "image 124/168 C:\\Users\\ahmed\\Downloads\\Compressed\\Brain Tumor.v1-v1.folder\\Brain-Tumor-1\\test\\glioma\\Tr-gl_0863_jpg.rf.c5e7808b0d4fb645f8f89f54e7c331ff.jpg: 416x416 1 glioma, 14.4ms\n",
      "image 125/168 C:\\Users\\ahmed\\Downloads\\Compressed\\Brain Tumor.v1-v1.folder\\Brain-Tumor-1\\test\\glioma\\Tr-gl_0864_jpg.rf.8de76889495d4c5c4070f0206a9ddd39.jpg: 416x416 1 glioma, 9.9ms\n",
      "image 126/168 C:\\Users\\ahmed\\Downloads\\Compressed\\Brain Tumor.v1-v1.folder\\Brain-Tumor-1\\test\\glioma\\Tr-gl_0874_jpg.rf.82ba16baaaccc0271f82dabe9881dcee.jpg: 416x416 1 glioma, 13.8ms\n",
      "image 127/168 C:\\Users\\ahmed\\Downloads\\Compressed\\Brain Tumor.v1-v1.folder\\Brain-Tumor-1\\test\\glioma\\Tr-gl_0894_jpg.rf.da8dd91036b263b7b6a6d0749361bc88.jpg: 416x416 (no detections), 13.3ms\n",
      "image 128/168 C:\\Users\\ahmed\\Downloads\\Compressed\\Brain Tumor.v1-v1.folder\\Brain-Tumor-1\\test\\glioma\\Tr-gl_0895_jpg.rf.69499f3e87279a6531c4a24b003a0d66.jpg: 416x416 1 glioma, 15.9ms\n",
      "image 129/168 C:\\Users\\ahmed\\Downloads\\Compressed\\Brain Tumor.v1-v1.folder\\Brain-Tumor-1\\test\\glioma\\Tr-gl_0905_jpg.rf.69362a6bd6884a089866db61dce31949.jpg: 416x416 (no detections), 17.7ms\n",
      "image 130/168 C:\\Users\\ahmed\\Downloads\\Compressed\\Brain Tumor.v1-v1.folder\\Brain-Tumor-1\\test\\glioma\\Tr-gl_0923_jpg.rf.a24334ae1ace1715f8f3702d9f8f434d.jpg: 416x416 (no detections), 14.4ms\n",
      "image 131/168 C:\\Users\\ahmed\\Downloads\\Compressed\\Brain Tumor.v1-v1.folder\\Brain-Tumor-1\\test\\glioma\\Tr-gl_0926_jpg.rf.e794693ffdd95a3f1a65401d4bd7a942.jpg: 416x416 1 glioma, 15.9ms\n",
      "image 132/168 C:\\Users\\ahmed\\Downloads\\Compressed\\Brain Tumor.v1-v1.folder\\Brain-Tumor-1\\test\\glioma\\Tr-gl_0930_jpg.rf.3e54fa8e1f3a11ef5423e999975fede2.jpg: 416x416 (no detections), 15.7ms\n",
      "image 133/168 C:\\Users\\ahmed\\Downloads\\Compressed\\Brain Tumor.v1-v1.folder\\Brain-Tumor-1\\test\\glioma\\Tr-gl_0951_jpg.rf.5ec05c51de92e9a84acd94e6356ac6af.jpg: 416x416 1 glioma, 13.1ms\n",
      "image 134/168 C:\\Users\\ahmed\\Downloads\\Compressed\\Brain Tumor.v1-v1.folder\\Brain-Tumor-1\\test\\glioma\\Tr-gl_0955_jpg.rf.f8618f9e2bdaf41e4622ed0782ea11f0.jpg: 416x416 1 glioma, 14.3ms\n",
      "image 135/168 C:\\Users\\ahmed\\Downloads\\Compressed\\Brain Tumor.v1-v1.folder\\Brain-Tumor-1\\test\\glioma\\Tr-gl_0966_jpg.rf.d9ce97881f5e3c3664c5d686903df36f.jpg: 416x416 (no detections), 11.9ms\n"
     ]
    },
    {
     "name": "stdout",
     "output_type": "stream",
     "text": [
      "image 136/168 C:\\Users\\ahmed\\Downloads\\Compressed\\Brain Tumor.v1-v1.folder\\Brain-Tumor-1\\test\\glioma\\Tr-gl_0974_jpg.rf.cf8306acf893b568ed1df54c81a89081.jpg: 416x416 1 glioma, 11.9ms\n",
      "image 137/168 C:\\Users\\ahmed\\Downloads\\Compressed\\Brain Tumor.v1-v1.folder\\Brain-Tumor-1\\test\\glioma\\Tr-gl_0978_jpg.rf.b81bf95bc509374a4fc0ff1ddf573858.jpg: 416x416 (no detections), 12.3ms\n",
      "image 138/168 C:\\Users\\ahmed\\Downloads\\Compressed\\Brain Tumor.v1-v1.folder\\Brain-Tumor-1\\test\\glioma\\Tr-gl_0979_jpg.rf.b05a922f3125a9358225cd9209d07718.jpg: 416x416 (no detections), 9.3ms\n",
      "image 139/168 C:\\Users\\ahmed\\Downloads\\Compressed\\Brain Tumor.v1-v1.folder\\Brain-Tumor-1\\test\\glioma\\Tr-gl_0986_jpg.rf.38ac6b9ffe604e05396ed69fc8747486.jpg: 416x416 (no detections), 10.9ms\n",
      "image 140/168 C:\\Users\\ahmed\\Downloads\\Compressed\\Brain Tumor.v1-v1.folder\\Brain-Tumor-1\\test\\glioma\\Tr-gl_1000_jpg.rf.e5ea1423288efcb3bab368e447aea404.jpg: 416x416 1 glioma, 13.4ms\n",
      "image 141/168 C:\\Users\\ahmed\\Downloads\\Compressed\\Brain Tumor.v1-v1.folder\\Brain-Tumor-1\\test\\glioma\\Tr-gl_1040_jpg.rf.ee619785f424eda002b60e70008b4939.jpg: 416x416 1 glioma, 11.3ms\n",
      "image 142/168 C:\\Users\\ahmed\\Downloads\\Compressed\\Brain Tumor.v1-v1.folder\\Brain-Tumor-1\\test\\glioma\\Tr-gl_1079_jpg.rf.3c894dd557fdb17e3addf8817ec91949.jpg: 416x416 1 glioma, 9.9ms\n",
      "image 143/168 C:\\Users\\ahmed\\Downloads\\Compressed\\Brain Tumor.v1-v1.folder\\Brain-Tumor-1\\test\\glioma\\Tr-gl_1090_jpg.rf.dc3b1055d1b10969c59b710ef90aa5c5.jpg: 416x416 (no detections), 10.9ms\n",
      "image 144/168 C:\\Users\\ahmed\\Downloads\\Compressed\\Brain Tumor.v1-v1.folder\\Brain-Tumor-1\\test\\glioma\\Tr-gl_1101_jpg.rf.0e39b43b004fc9a4592034cba4b3e1b2.jpg: 416x416 (no detections), 14.4ms\n",
      "image 145/168 C:\\Users\\ahmed\\Downloads\\Compressed\\Brain Tumor.v1-v1.folder\\Brain-Tumor-1\\test\\glioma\\Tr-gl_1102_jpg.rf.a762900a101668177640220779a9bf5d.jpg: 416x416 (no detections), 15.4ms\n",
      "image 146/168 C:\\Users\\ahmed\\Downloads\\Compressed\\Brain Tumor.v1-v1.folder\\Brain-Tumor-1\\test\\glioma\\Tr-gl_1112_jpg.rf.ccac7f13d33af2492e89d06dd44aa79a.jpg: 416x416 1 glioma, 11.4ms\n",
      "image 147/168 C:\\Users\\ahmed\\Downloads\\Compressed\\Brain Tumor.v1-v1.folder\\Brain-Tumor-1\\test\\glioma\\Tr-gl_1114_jpg.rf.054c1a9e47aad05856c3f52873645cee.jpg: 416x416 (no detections), 9.9ms\n",
      "image 148/168 C:\\Users\\ahmed\\Downloads\\Compressed\\Brain Tumor.v1-v1.folder\\Brain-Tumor-1\\test\\glioma\\Tr-gl_1118_jpg.rf.025931f5338685cbab44184d82099db4.jpg: 416x416 1 glioma, 15.0ms\n",
      "image 149/168 C:\\Users\\ahmed\\Downloads\\Compressed\\Brain Tumor.v1-v1.folder\\Brain-Tumor-1\\test\\glioma\\Tr-gl_1119_jpg.rf.1e30f9f727ce1e9961386b5873500913.jpg: 416x416 1 glioma, 10.8ms\n",
      "image 150/168 C:\\Users\\ahmed\\Downloads\\Compressed\\Brain Tumor.v1-v1.folder\\Brain-Tumor-1\\test\\glioma\\Tr-gl_1133_jpg.rf.fb822d996868e052aaa096bfd4e9c505.jpg: 416x416 1 glioma, 11.6ms\n",
      "image 151/168 C:\\Users\\ahmed\\Downloads\\Compressed\\Brain Tumor.v1-v1.folder\\Brain-Tumor-1\\test\\glioma\\Tr-gl_1135_jpg.rf.4beb8567083b3fc628adc7495b4ea2e0.jpg: 416x416 1 glioma, 10.3ms\n",
      "image 152/168 C:\\Users\\ahmed\\Downloads\\Compressed\\Brain Tumor.v1-v1.folder\\Brain-Tumor-1\\test\\glioma\\Tr-gl_1147_jpg.rf.15a719945c8fcd9e930cb20b3579ebc9.jpg: 416x416 (no detections), 10.8ms\n",
      "image 153/168 C:\\Users\\ahmed\\Downloads\\Compressed\\Brain Tumor.v1-v1.folder\\Brain-Tumor-1\\test\\glioma\\Tr-gl_1157_jpg.rf.636d700b1c4334d65cf8a2804f3b3479.jpg: 416x416 (no detections), 12.8ms\n",
      "image 154/168 C:\\Users\\ahmed\\Downloads\\Compressed\\Brain Tumor.v1-v1.folder\\Brain-Tumor-1\\test\\glioma\\Tr-gl_1168_jpg.rf.fb3a26efe4d545345b4c79c9edc7d270.jpg: 416x416 1 glioma, 11.0ms\n",
      "image 155/168 C:\\Users\\ahmed\\Downloads\\Compressed\\Brain Tumor.v1-v1.folder\\Brain-Tumor-1\\test\\glioma\\Tr-gl_1195_jpg.rf.11a72cfdbe78eef4f24d4ae952bef068.jpg: 416x416 2 gliomas, 10.0ms\n",
      "image 156/168 C:\\Users\\ahmed\\Downloads\\Compressed\\Brain Tumor.v1-v1.folder\\Brain-Tumor-1\\test\\glioma\\Tr-gl_1198_jpg.rf.e767a1663f2c359d20ed5a5e0287bbc9.jpg: 416x416 2 gliomas, 11.4ms\n",
      "image 157/168 C:\\Users\\ahmed\\Downloads\\Compressed\\Brain Tumor.v1-v1.folder\\Brain-Tumor-1\\test\\glioma\\Tr-gl_1201_jpg.rf.58ad523119ad37cde03746eb866a5c04.jpg: 416x416 1 glioma, 9.9ms\n",
      "image 158/168 C:\\Users\\ahmed\\Downloads\\Compressed\\Brain Tumor.v1-v1.folder\\Brain-Tumor-1\\test\\glioma\\Tr-gl_1212_jpg.rf.ce4706ade3e166426d5b7f9af94f2dd5.jpg: 416x416 1 meningioma, 10.4ms\n",
      "image 159/168 C:\\Users\\ahmed\\Downloads\\Compressed\\Brain Tumor.v1-v1.folder\\Brain-Tumor-1\\test\\glioma\\Tr-gl_1214_jpg.rf.5a07877e7fa16e8df17a30509870f5b3.jpg: 416x416 1 glioma, 12.3ms\n",
      "image 160/168 C:\\Users\\ahmed\\Downloads\\Compressed\\Brain Tumor.v1-v1.folder\\Brain-Tumor-1\\test\\glioma\\Tr-gl_1216_jpg.rf.56ce64188cb7b1590cbe1d3bf80653b3.jpg: 416x416 (no detections), 9.9ms\n",
      "image 161/168 C:\\Users\\ahmed\\Downloads\\Compressed\\Brain Tumor.v1-v1.folder\\Brain-Tumor-1\\test\\glioma\\Tr-gl_1229_jpg.rf.e9c826b13e0bc935d159bdebdaaad813.jpg: 416x416 1 glioma, 11.3ms\n",
      "image 162/168 C:\\Users\\ahmed\\Downloads\\Compressed\\Brain Tumor.v1-v1.folder\\Brain-Tumor-1\\test\\glioma\\Tr-gl_1230_jpg.rf.4d155477a874c459f53ce154f5c0902e.jpg: 416x416 1 glioma, 10.8ms\n",
      "image 163/168 C:\\Users\\ahmed\\Downloads\\Compressed\\Brain Tumor.v1-v1.folder\\Brain-Tumor-1\\test\\glioma\\Tr-gl_1256_jpg.rf.273af803f913f37957e082a87ee877fd.jpg: 416x416 1 glioma, 13.3ms\n",
      "image 164/168 C:\\Users\\ahmed\\Downloads\\Compressed\\Brain Tumor.v1-v1.folder\\Brain-Tumor-1\\test\\glioma\\Tr-gl_1273_jpg.rf.a089ba9592db3365b17bb0c1c1597bba.jpg: 416x416 1 glioma, 14.1ms\n",
      "image 165/168 C:\\Users\\ahmed\\Downloads\\Compressed\\Brain Tumor.v1-v1.folder\\Brain-Tumor-1\\test\\glioma\\Tr-gl_1279_jpg.rf.080d8631f6aac4ded2b622312b6f5b34.jpg: 416x416 1 glioma, 13.9ms\n",
      "image 166/168 C:\\Users\\ahmed\\Downloads\\Compressed\\Brain Tumor.v1-v1.folder\\Brain-Tumor-1\\test\\glioma\\Tr-gl_1284_jpg.rf.02534327b65dd8b09fddaa6701115002.jpg: 416x416 1 glioma, 14.2ms\n",
      "image 167/168 C:\\Users\\ahmed\\Downloads\\Compressed\\Brain Tumor.v1-v1.folder\\Brain-Tumor-1\\test\\glioma\\Tr-gl_1302_jpg.rf.2f99da23abc1d5faed4291a6a35f7b39.jpg: 416x416 1 glioma, 8.9ms\n",
      "image 168/168 C:\\Users\\ahmed\\Downloads\\Compressed\\Brain Tumor.v1-v1.folder\\Brain-Tumor-1\\test\\glioma\\Tr-gl_1316_jpg.rf.3dc5fd01ed0894330b1494c718b0b0c2.jpg: 416x416 (no detections), 10.2ms\n",
      "Speed: 1.8ms preprocess, 11.9ms inference, 3.1ms postprocess per image at shape (1, 3, 416, 416)\n",
      "Results saved to \u001b[1mruns\\detect\\predict2\u001b[0m\n"
     ]
    }
   ],
   "source": [
    "model = YOLO(\"C:/Users/ahmed/Downloads/split_dataset/runs/detect/train/weights/best.pt\")\n",
    "\n",
    "#Path to the test folder\n",
    "test_dir = \"C:/Users/ahmed/Downloads/Compressed/Brain Tumor.v1-v1.folder/Brain-Tumor-1/test/plituarity\"\n",
    "\n",
    "\n",
    "        # Predict using the model\n",
    "results = model.predict(\n",
    "            source=test_dir,  \n",
    "            imgsz=416,  \n",
    "            conf=0.5,  \n",
    "            save=True,  \n",
    "        )"
   ]
  },
  {
   "cell_type": "code",
   "execution_count": 7,
   "id": "d88aac5c",
   "metadata": {},
   "outputs": [
    {
     "name": "stdout",
     "output_type": "stream",
     "text": [
      "Ultralytics 8.3.12  Python-3.11.5 torch-2.4.1+cu124 CPU (Intel Core(TM) i7-10750H 2.60GHz)\n",
      "\n",
      "\u001b[34m\u001b[1mPyTorch:\u001b[0m starting from 'C:\\Users\\ahmed\\Downloads\\split_dataset\\runs\\detect\\train\\weights\\best.pt' with input shape (1, 3, 416, 416) BCHW and output shape(s) (1, 8, 3549) (5.2 MB)\n",
      "\u001b[31m\u001b[1mrequirements:\u001b[0m Ultralytics requirement ['onnxruntime-gpu'] not found, attempting AutoUpdate...\n",
      "Retry 1/2 failed: Command 'pip install --no-cache-dir \"onnxruntime-gpu\" ' returned non-zero exit status 1.\n",
      "Retry 2/2 failed: Command 'pip install --no-cache-dir \"onnxruntime-gpu\" ' returned non-zero exit status 1.\n",
      "\u001b[31m\u001b[1mrequirements:\u001b[0m  Command 'pip install --no-cache-dir \"onnxruntime-gpu\" ' returned non-zero exit status 1.\n",
      "\n",
      "\u001b[34m\u001b[1mONNX:\u001b[0m starting export with onnx 1.16.0 opset 19...\n",
      "\u001b[34m\u001b[1mONNX:\u001b[0m slimming with onnxslim 0.1.34...\n",
      "\u001b[34m\u001b[1mONNX:\u001b[0m export success  203.9s, saved as 'C:\\Users\\ahmed\\Downloads\\split_dataset\\runs\\detect\\train\\weights\\best.onnx' (10.0 MB)\n",
      "\n",
      "Export complete (204.1s)\n",
      "Results saved to \u001b[1mC:\\Users\\ahmed\\Downloads\\split_dataset\\runs\\detect\\train\\weights\u001b[0m\n",
      "Predict:         yolo predict task=detect model=C:\\Users\\ahmed\\Downloads\\split_dataset\\runs\\detect\\train\\weights\\best.onnx imgsz=416  \n",
      "Validate:        yolo val task=detect model=C:\\Users\\ahmed\\Downloads\\split_dataset\\runs\\detect\\train\\weights\\best.onnx imgsz=416 data=C:/Users/ahmed/Downloads/split_dataset/brain_tumor_dataset.yaml  \n",
      "Visualize:       https://netron.app\n"
     ]
    },
    {
     "data": {
      "text/plain": [
       "'C:\\\\Users\\\\ahmed\\\\Downloads\\\\split_dataset\\\\runs\\\\detect\\\\train\\\\weights\\\\best.onnx'"
      ]
     },
     "execution_count": 7,
     "metadata": {},
     "output_type": "execute_result"
    }
   ],
   "source": [
    "model.export(format=\"onnx\", imgsz=416)"
   ]
  },
  {
   "cell_type": "code",
   "execution_count": null,
   "id": "e2fed83b",
   "metadata": {},
   "outputs": [],
   "source": []
  }
 ],
 "metadata": {
  "kernelspec": {
   "display_name": "Python 3 (ipykernel)",
   "language": "python",
   "name": "python3"
  },
  "language_info": {
   "codemirror_mode": {
    "name": "ipython",
    "version": 3
   },
   "file_extension": ".py",
   "mimetype": "text/x-python",
   "name": "python",
   "nbconvert_exporter": "python",
   "pygments_lexer": "ipython3",
   "version": "3.11.5"
  }
 },
 "nbformat": 4,
 "nbformat_minor": 5
}
